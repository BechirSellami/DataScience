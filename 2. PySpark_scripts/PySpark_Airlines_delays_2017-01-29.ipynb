{
 "cells": [
  {
   "cell_type": "markdown",
   "metadata": {},
   "source": [
    "In this PySpark notebook, we'll explore flights data for January 2016 from the U.S. Bureau of Transportation Statistics. \n",
    "\n",
    "After loading data in the Flights RDD, we'll do the following operations:\n",
    "\n",
    "1. Calculate the average distance travelled by a flight using **Reduce** method\n",
    "2. Caluclate the percentage of flights with delays\n",
    "3. Calculate the average delay per flight using **Aggregate** method\n",
    "4. Build a histogram using **CountByValue** method\n",
    "\n",
    "Then, we'll load airports data in a pair RDD and do the following:\n",
    "\n",
    "1. Calculate total delay per airport using **reduceByKey**\n",
    "\n",
    "2. Count number of flights per airport using **mapValues and reduceByKey**: map each value to 1 then sum up the ones.\n",
    "\n",
    "3. Calculate average delay per airport using the previous results, and show the 10 airports with largest delays\n"
   ]
  },
  {
   "cell_type": "code",
   "execution_count": 1,
   "metadata": {},
   "outputs": [
    {
     "data": {
      "text/plain": [
       "<pyspark.context.SparkContext at 0x7f869db3d790>"
      ]
     },
     "execution_count": 1,
     "metadata": {},
     "output_type": "execute_result"
    }
   ],
   "source": [
    "sc"
   ]
  },
  {
   "cell_type": "code",
   "execution_count": 2,
   "metadata": {
    "collapsed": true
   },
   "outputs": [],
   "source": [
    "# Set up file paths. \n",
    "# I'm using a Google Dataproc cluster and the files are stored in a Google storage bucket\n",
    "airportsPath=\"gs://bs_spark_bucket/Airlines_data/airports.csv\"\n",
    "flightsPath=\"gs://bs_spark_bucket/Airlines_data/flights.csv\""
   ]
  },
  {
   "cell_type": "markdown",
   "metadata": {},
   "source": [
    "### Create the Flights RDD that contains data for 445 827 flights"
   ]
  },
  {
   "cell_type": "markdown",
   "metadata": {},
   "source": [
    "Each row in the flights RDD is **a string** that contains information about a specific flight (Flight date, Airline ID, Flight number, Origin, Destination, Departure time, Departure delay, Arrival Time, Arrival delay, Air time \n",
    "and Distance traveled).\n",
    "\n",
    "We want to create an RDD of **flight objects** and for that we'll:\n",
    "\n",
    "1- Remove the header and split each row into a list\n",
    "\n",
    "2- Build a class and a function to create a flight object from each row "
   ]
  },
  {
   "cell_type": "code",
   "execution_count": 6,
   "metadata": {
    "collapsed": true
   },
   "outputs": [],
   "source": [
    "# Get data from the csv file \n",
    "flights = sc.textFile(flightsPath)"
   ]
  },
  {
   "cell_type": "code",
   "execution_count": 45,
   "metadata": {},
   "outputs": [
    {
     "data": {
      "text/plain": [
       "445828"
      ]
     },
     "execution_count": 45,
     "metadata": {},
     "output_type": "execute_result"
    }
   ],
   "source": [
    "# Let's see how many flights we have\n",
    "flights.count()"
   ]
  },
  {
   "cell_type": "code",
   "execution_count": 46,
   "metadata": {},
   "outputs": [
    {
     "data": {
      "text/plain": [
       "[u'\"FL_DATE\",\"AIRLINE_ID\",\"FL_NUM\",\"ORIGIN\",\"DEST\",\"DEP_TIME\",\"DEP_DELAY\",\"ARR_TIME\",\"ARR_DELAY\",\"AIR_TIME\",\"DISTANCE\",',\n",
       " u'2016-01-01,19805,\"43\",\"DTW\",\"DFW\",\"1539\",26.00,\"1756\",32.00,149.00,986.00,',\n",
       " u'2016-01-01,19805,\"44\",\"SEA\",\"JFK\",\"0741\",-4.00,\"1610\",8.00,294.00,2422.00,',\n",
       " u'2016-01-01,19805,\"45\",\"JFK\",\"SEA\",\"1819\",-6.00,\"2125\",-25.00,324.00,2422.00,',\n",
       " u'2016-01-01,19805,\"46\",\"SJC\",\"ORD\",\"1423\",-2.00,\"2029\",-14.00,220.00,1829.00,',\n",
       " u'2016-01-01,19805,\"47\",\"ORD\",\"SJC\",\"1746\",-4.00,\"2007\",-27.00,245.00,1829.00,',\n",
       " u'2016-01-01,19805,\"48\",\"PHX\",\"DFW\",\"1115\",0.00,\"1431\",-12.00,109.00,868.00,',\n",
       " u'2016-01-01,19805,\"52\",\"LAX\",\"DCA\",\"1443\",83.00,\"2217\",62.00,253.00,2311.00,',\n",
       " u'2016-01-01,19805,\"53\",\"ORD\",\"TPA\",\"1510\",10.00,\"1848\",9.00,132.00,1012.00,',\n",
       " u'2016-01-01,19805,\"54\",\"MCO\",\"ORD\",\"1406\",15.00,\"1554\",0.00,152.00,1005.00,']"
      ]
     },
     "execution_count": 46,
     "metadata": {},
     "output_type": "execute_result"
    }
   ],
   "source": [
    "flights.take(10)"
   ]
  },
  {
   "cell_type": "code",
   "execution_count": 7,
   "metadata": {
    "collapsed": true
   },
   "outputs": [],
   "source": [
    "# Remove header and split each row into a list\n",
    "flightsWoHeader = flights.filter(lambda x: \"FL_DATE\" not in x).map(lambda x:x.split(','))"
   ]
  },
  {
   "cell_type": "code",
   "execution_count": 8,
   "metadata": {},
   "outputs": [],
   "source": [
    "# Remove blank records\n",
    "flightsWoHeader = flightsWoHeader.filter(lambda x:x[6] != \"\")"
   ]
  },
  {
   "cell_type": "code",
   "execution_count": 10,
   "metadata": {},
   "outputs": [
    {
     "data": {
      "text/plain": [
       "434354"
      ]
     },
     "execution_count": 10,
     "metadata": {},
     "output_type": "execute_result"
    }
   ],
   "source": [
    "flightsWoHeader.count()"
   ]
  },
  {
   "cell_type": "code",
   "execution_count": 11,
   "metadata": {},
   "outputs": [],
   "source": [
    "# Let's build a class and a function to transform each row into a flight object\n",
    "from datetime import datetime\n",
    "from collections import namedtuple\n",
    "\n",
    "\n",
    "# Use namedtuple to create a Flight class\n",
    "fields   = ('date', 'airline', 'flightnum', 'origin', 'dest', 'dep',\n",
    "            'dep_delay', 'arv', 'arv_delay', 'airtime', 'distance')\n",
    "Flight   = namedtuple('Flight', fields, verbose=False)\n",
    "\n",
    "\n",
    "# Create a function to build a flight object from each row. The function also converts\n",
    "# dep_delay and distance to floats.\n",
    "def parse(row):\n",
    "    row[6]  = float(row[6])\n",
    "    row[10] = float(row[10])\n",
    "    return Flight(*row[:11])"
   ]
  },
  {
   "cell_type": "markdown",
   "metadata": {},
   "source": [
    "Now let's use our new function to create an **RDD of flight objects**"
   ]
  },
  {
   "cell_type": "code",
   "execution_count": 12,
   "metadata": {},
   "outputs": [],
   "source": [
    "flightsParsed = flightsWoHeader.map(parse)"
   ]
  },
  {
   "cell_type": "markdown",
   "metadata": {},
   "source": [
    "### FLIGHTS data analysis - Average Distance travelled and Average Delays"
   ]
  },
  {
   "cell_type": "markdown",
   "metadata": {},
   "source": [
    "We want to:\n",
    "1. Calculate the average distance travelled by a flight using **Reduce** method\n",
    "\n",
    "2. Caluclate the percentage of flights with delays\n",
    "\n",
    "3. Calculate the average delay per flight using **Aggregate** method\n",
    "\n",
    "4. Build a histogram using **CountByValue** method"
   ]
  },
  {
   "cell_type": "markdown",
   "metadata": {},
   "source": [
    "Average distance travelled by a flight using **Reduce**"
   ]
  },
  {
   "cell_type": "code",
   "execution_count": 59,
   "metadata": {},
   "outputs": [],
   "source": [
    "# Let's find the average distance travelled by a flight\n",
    "totalDistance=flightsParsed.map(lambda x:x.distance).reduce(lambda x,y:x+y)"
   ]
  },
  {
   "cell_type": "code",
   "execution_count": 14,
   "metadata": {},
   "outputs": [],
   "source": [
    "avgDistance = totalDistance / flightsParsed.count()"
   ]
  },
  {
   "cell_type": "code",
   "execution_count": 15,
   "metadata": {},
   "outputs": [
    {
     "data": {
      "text/plain": [
       "843.8915492892894"
      ]
     },
     "execution_count": 15,
     "metadata": {},
     "output_type": "execute_result"
    }
   ],
   "source": [
    "avgDistance"
   ]
  },
  {
   "cell_type": "code",
   "execution_count": 16,
   "metadata": {},
   "outputs": [
    {
     "data": {
      "text/plain": [
       "0.3433627870354596"
      ]
     },
     "execution_count": 16,
     "metadata": {},
     "output_type": "execute_result"
    }
   ],
   "source": [
    "# Find the percentage of flights with delays \n",
    "flightsParsed.filter(lambda x:x.dep_delay>0).count()/float(flightsParsed.count())"
   ]
  },
  {
   "cell_type": "markdown",
   "metadata": {},
   "source": [
    "Average delay per flight using **Aggregate**"
   ]
  },
  {
   "cell_type": "markdown",
   "metadata": {},
   "source": [
    "The Aggregate method allows us to define:\n",
    "- a function to combine results on individual nodes\n",
    "- and another function to combine results for all nodes "
   ]
  },
  {
   "cell_type": "code",
   "execution_count": 56,
   "metadata": {},
   "outputs": [],
   "source": [
    "# We get a tuple where the first value is the total delay and the second value is the number of flights\n",
    "\n",
    "sumCount=flightsParsed.map(lambda x:x.dep_delay).aggregate(# Zero value\n",
    "                                                           (0,0), \n",
    "                                                           # Function to combine results on individual nodes\n",
    "                                                          (lambda acc,value: (acc[0]+value, acc[1]+1)),\n",
    "                                                           # Function to combine results from all nodes \n",
    "                                                          (lambda acc1,acc2:(acc1[0]+acc2[0],acc1[1]+acc2[1])))"
   ]
  },
  {
   "cell_type": "code",
   "execution_count": 93,
   "metadata": {},
   "outputs": [
    {
     "data": {
      "text/plain": [
       "(3385154.0, 434354)"
      ]
     },
     "execution_count": 93,
     "metadata": {},
     "output_type": "execute_result"
    }
   ],
   "source": [
    "sumCount"
   ]
  },
  {
   "cell_type": "code",
   "execution_count": 101,
   "metadata": {},
   "outputs": [
    {
     "name": "stdout",
     "output_type": "stream",
     "text": [
      "The average delay per flight is 7.79 hours.\n"
     ]
    }
   ],
   "source": [
    "print \"The average delay per flight is \"+str(round(sumCount[0]/float(sumCount[1]),2)) + \" hours.\""
   ]
  },
  {
   "cell_type": "markdown",
   "metadata": {},
   "source": [
    "Histogram of delays using **CountByValue**"
   ]
  },
  {
   "cell_type": "code",
   "execution_count": 112,
   "metadata": {},
   "outputs": [],
   "source": [
    "histData = flightsParsed.map(lambda x:int(x.dep_delay/60)).countByValue()"
   ]
  },
  {
   "cell_type": "code",
   "execution_count": 114,
   "metadata": {},
   "outputs": [],
   "source": [
    "import matplotlib.pyplot as plt\n",
    "import pandas as pd"
   ]
  },
  {
   "cell_type": "code",
   "execution_count": 124,
   "metadata": {},
   "outputs": [],
   "source": [
    "df_pd = pd.DataFrame(histData.items(), columns=['Delay_hrs', 'Frequency'])"
   ]
  },
  {
   "cell_type": "code",
   "execution_count": 130,
   "metadata": {},
   "outputs": [
    {
     "data": {
      "text/plain": [
       "<matplotlib.axes._subplots.AxesSubplot at 0x7f6287d20d10>"
      ]
     },
     "execution_count": 130,
     "metadata": {},
     "output_type": "execute_result"
    }
   ],
   "source": [
    "df_pd[df_pd['Delay_hrs']>0].plot(kind='bar')"
   ]
  },
  {
   "cell_type": "code",
   "execution_count": 131,
   "metadata": {},
   "outputs": [
    {
     "data": {
      "image/png": "[encoded data removed]",
      "text/plain": [
       "<matplotlib.figure.Figure at 0x7f6287f38510>"
      ]
     },
     "metadata": {},
     "output_type": "display_data"
    }
   ],
   "source": [
    "plt.show()"
   ]
  },
  {
   "cell_type": "markdown",
   "metadata": {},
   "source": [
    "### AIRPORTS - data analysis"
   ]
  },
  {
   "cell_type": "markdown",
   "metadata": {},
   "source": [
    "1. Create a pair RDD airportDelays\n",
    "\n",
    "2. Calculate total delay per airport using **reduceByKey**\n",
    "\n",
    "3. Count number of flights per airport using **mapValues and reduceByKey**: map each value to 1 then sum up the ones.\n",
    "\n",
    "4. Calculate average delay per airport using the previous results, and show the 10 airports with greatest delays"
   ]
  },
  {
   "cell_type": "code",
   "execution_count": 17,
   "metadata": {
    "collapsed": true
   },
   "outputs": [],
   "source": [
    "# Create a pair RDD where the keys are airports symbols and values are departure delays\n",
    "airportDelays = flightsParsed.map(lambda x: (x.origin,x.dep_delay))"
   ]
  },
  {
   "cell_type": "code",
   "execution_count": 18,
   "metadata": {},
   "outputs": [
    {
     "data": {
      "text/plain": [
       "[u'\"DTW\"',\n",
       " u'\"SEA\"',\n",
       " u'\"JFK\"',\n",
       " u'\"SJC\"',\n",
       " u'\"ORD\"',\n",
       " u'\"PHX\"',\n",
       " u'\"LAX\"',\n",
       " u'\"ORD\"',\n",
       " u'\"MCO\"',\n",
       " u'\"DEN\"']"
      ]
     },
     "execution_count": 18,
     "metadata": {},
     "output_type": "execute_result"
    }
   ],
   "source": [
    "airportDelays.keys().take(10)"
   ]
  },
  {
   "cell_type": "code",
   "execution_count": 19,
   "metadata": {},
   "outputs": [
    {
     "data": {
      "text/plain": [
       "[26.0, -4.0, -6.0, -2.0, -4.0, 0.0, 83.0, 10.0, 15.0, -5.0]"
      ]
     },
     "execution_count": 19,
     "metadata": {},
     "output_type": "execute_result"
    }
   ],
   "source": [
    "airportDelays.values().take(10)"
   ]
  },
  {
   "cell_type": "markdown",
   "metadata": {},
   "source": [
    "Calculate total delay per airport using **reduceByKey**"
   ]
  },
  {
   "cell_type": "code",
   "execution_count": 20,
   "metadata": {
    "collapsed": true
   },
   "outputs": [],
   "source": [
    "# First find the total delay per airport\n",
    "airportTotalDelay=airportDelays.reduceByKey(lambda x,y:x+y)"
   ]
  },
  {
   "cell_type": "code",
   "execution_count": 58,
   "metadata": {},
   "outputs": [
    {
     "data": {
      "text/plain": [
       "[(u'\"DAB\"', 1885.0),\n",
       " (u'\"TXK\"', 84.0),\n",
       " (u'\"ACY\"', 2808.0),\n",
       " (u'\"ONT\"', 14015.0),\n",
       " (u'\"MLB\"', 115.0),\n",
       " (u'\"ASE\"', 6425.0),\n",
       " (u'\"FLG\"', 216.0),\n",
       " (u'\"GUC\"', -4.0),\n",
       " (u'\"TYR\"', -653.0),\n",
       " (u'\"BLI\"', -397.0)]"
      ]
     },
     "execution_count": 58,
     "metadata": {},
     "output_type": "execute_result"
    }
   ],
   "source": [
    "airportTotalDelay.take(10)"
   ]
  },
  {
   "cell_type": "markdown",
   "metadata": {},
   "source": [
    "Count number of flights per airport using **mapValues and reduceByKey**: map each value to 1 then sum up the ones."
   ]
  },
  {
   "cell_type": "code",
   "execution_count": 21,
   "metadata": {
    "collapsed": true
   },
   "outputs": [],
   "source": [
    "# Find the flights count per airport\n",
    "airportCount=airportDelays.mapValues(lambda x:1).reduceByKey(lambda x,y:x+y)"
   ]
  },
  {
   "cell_type": "code",
   "execution_count": 22,
   "metadata": {},
   "outputs": [
    {
     "data": {
      "text/plain": [
       "[(u'\"DAB\"', 145),\n",
       " (u'\"TXK\"', 82),\n",
       " (u'\"ACY\"', 294),\n",
       " (u'\"ONT\"', 1574),\n",
       " (u'\"MLB\"', 117),\n",
       " (u'\"ASE\"', 580),\n",
       " (u'\"FLG\"', 146),\n",
       " (u'\"GUC\"', 48),\n",
       " (u'\"TYR\"', 170),\n",
       " (u'\"BLI\"', 94)]"
      ]
     },
     "execution_count": 22,
     "metadata": {},
     "output_type": "execute_result"
    }
   ],
   "source": [
    "airportCount.take(10)"
   ]
  },
  {
   "cell_type": "code",
   "execution_count": 51,
   "metadata": {},
   "outputs": [],
   "source": [
    "# Join the two RDDs to have delays and flight count in 1 RDD \n",
    "airportSumCount=airportTotalDelay.join(airportCount)"
   ]
  },
  {
   "cell_type": "code",
   "execution_count": 52,
   "metadata": {},
   "outputs": [
    {
     "data": {
      "text/plain": [
       "[(u'\"DAB\"', (1885.0, 145)),\n",
       " (u'\"TXK\"', (84.0, 82)),\n",
       " (u'\"ACY\"', (2808.0, 294)),\n",
       " (u'\"ONT\"', (14015.0, 1574)),\n",
       " (u'\"MLB\"', (115.0, 117)),\n",
       " (u'\"ASE\"', (6425.0, 580)),\n",
       " (u'\"FLG\"', (216.0, 146)),\n",
       " (u'\"GUC\"', (-4.0, 48)),\n",
       " (u'\"TYR\"', (-653.0, 170)),\n",
       " (u'\"BLI\"', (-397.0, 94))]"
      ]
     },
     "execution_count": 52,
     "metadata": {},
     "output_type": "execute_result"
    }
   ],
   "source": [
    "airportSumCount.take(10)"
   ]
  },
  {
   "cell_type": "code",
   "execution_count": 53,
   "metadata": {
    "collapsed": true
   },
   "outputs": [],
   "source": [
    "# Compute average delay per airport \n",
    "airportAvgDelay=airportSumCount.mapValues(lambda x : round(x[0]/float(x[1]),2))"
   ]
  },
  {
   "cell_type": "code",
   "execution_count": 60,
   "metadata": {},
   "outputs": [
    {
     "data": {
      "text/plain": [
       "[(u'\"COD\"', 53.0),\n",
       " (u'\"MQT\"', 44.34),\n",
       " (u'\"BRD\"', 35.81),\n",
       " (u'\"HIB\"', 33.72),\n",
       " (u'\"APN\"', 33.48),\n",
       " (u'\"CMX\"', 31.75),\n",
       " (u'\"OTH\"', 21.88),\n",
       " (u'\"FAR\"', 20.44),\n",
       " (u'\"SWF\"', 20.32),\n",
       " (u'\"PLN\"', 19.82)]"
      ]
     },
     "execution_count": 60,
     "metadata": {},
     "output_type": "execute_result"
    }
   ],
   "source": [
    "# Airports with largest delays\n",
    "airportAvgDelay.sortBy(lambda x:-x[1]).take(10)"
   ]
  },
  {
   "cell_type": "code",
   "execution_count": null,
   "metadata": {
    "collapsed": true
   },
   "outputs": [],
   "source": []
  }
 ],
 "metadata": {
  "kernelspec": {
   "display_name": "Python 3",
   "language": "python",
   "name": "python3"
  },
  "language_info": {
   "codemirror_mode": {
    "name": "ipython",
    "version": 3
   },
   "file_extension": ".py",
   "mimetype": "text/x-python",
   "name": "python",
   "nbconvert_exporter": "python",
   "pygments_lexer": "ipython3",
   "version": "3.6.1"
  }
 },
 "nbformat": 4,
 "nbformat_minor": 2
}
