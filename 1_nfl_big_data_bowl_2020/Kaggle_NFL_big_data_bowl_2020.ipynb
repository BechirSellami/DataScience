{
 "cells": [
  {
   "cell_type": "markdown",
   "metadata": {},
   "source": [
    "<h1><center>NFL BIG DATA BOWL 2020</center></h1>"
   ]
  },
  {
   "cell_type": "markdown",
   "metadata": {},
   "source": [
    "# Summary"
   ]
  },
  {
   "cell_type": "markdown",
   "metadata": {},
   "source": [
    "This notebook is an attempt to reproduce the winning solution of the \"NFL Big data bowl 2020\" competition hosted by Kaggle (https://www.kaggle.com/c/nfl-big-data-bowl-2020). In fact, the winning team discussed their approach and main ideas to solve this challenge [1], however, they didn't share the code implementation for their solution. \n",
    "Therefore, I'll attempt to reproduce:\n",
    "- the data cleaning\n",
    "- Feature engineering\n",
    "- And model building steps based on the information available.\n",
    "\n",
    "The goal of this competition is to predict how many yards will an NFL player (the rusher) gain after receiving the ball. For that, we'll use features known at the time when the ball is handed off  to the rusher and forecast the yardage gained on a specific play (PlayId).\n",
    "\n",
    "To build the model, we'll assume that a rushing play consists of:\n",
    "\n",
    "- A rusher, whose aim is to run forward as far as possible.\n",
    "- 11 defense players who are trying to stop the rusher.\n",
    "- 10 remaining offense players trying to prevent defenders from blocking or tackling the rusher.\n",
    "\n",
    "This description already implies connections between which players are important and which might be less important."
   ]
  },
  {
   "cell_type": "markdown",
   "metadata": {},
   "source": [
    "# Outline"
   ]
  },
  {
   "cell_type": "markdown",
   "metadata": {},
   "source": [
    "* [Load the data](#Load-the-data)\n",
    "* [Data processing](#Data-processing)\n",
    "* [Modeling approach](#Modeling-approach)\n",
    "* [Converting a play into a 3D tensor](#Converting-a-play-into-a-3D-tensor)\n",
    "* [Model architecture](#Model-architecture)"
   ]
  },
  {
   "cell_type": "code",
   "execution_count": 7,
   "metadata": {},
   "outputs": [],
   "source": [
    "# Import packages"
   ]
  },
  {
   "cell_type": "code",
   "execution_count": 8,
   "metadata": {
    "_cell_guid": "b1076dfc-b9ad-4769-8c92-a6c4dae69d19",
    "_uuid": "8f2839f25d086af736a60e9eeb907d3b93b6e0e5"
   },
   "outputs": [],
   "source": [
    "import numpy as np # linear algebra\n",
    "import pandas as pd # data processing, CSV file I/O (e.g. pd.read_csv)\n",
    "import matplotlib.pyplot as plt\n",
    "import matplotlib.patches as patches\n",
    "import seaborn as sns\n",
    "import math"
   ]
  },
  {
   "cell_type": "code",
   "execution_count": 9,
   "metadata": {},
   "outputs": [],
   "source": [
    "pd.set_option('max_columns', 100)"
   ]
  },
  {
   "cell_type": "markdown",
   "metadata": {},
   "source": [
    "# Load the data"
   ]
  },
  {
   "cell_type": "code",
   "execution_count": 10,
   "metadata": {
    "_cell_guid": "79c7e3d0-c299-4dcb-8224-4455121ee9b0",
    "_uuid": "d629ff2d2480ee46fbb7e2d37f6b5fab8052498a"
   },
   "outputs": [],
   "source": [
    "train = pd.read_csv('../input/train.csv', low_memory=False)"
   ]
  },
  {
   "cell_type": "code",
   "execution_count": 11,
   "metadata": {},
   "outputs": [],
   "source": [
    "# Let's take a look at the data for a specific PlayId with the main columns of interest"
   ]
  },
  {
   "cell_type": "code",
   "execution_count": 12,
   "metadata": {},
   "outputs": [],
   "source": [
    "cols = ['PlayId', 'Team', 'X', 'Y', 'S', 'A', 'Dis', 'Dir', 'YardLine', 'PossessionTeam', 'NflIdRusher', \n",
    "        'PlayDirection', 'Yards', 'HomeTeamAbbr', 'VisitorTeamAbbr', 'FieldPosition']"
   ]
  },
  {
   "cell_type": "markdown",
   "metadata": {},
   "source": [
    "#### Print data for a play"
   ]
  },
  {
   "cell_type": "code",
   "execution_count": 13,
   "metadata": {},
   "outputs": [
    {
     "data": {
      "text/html": [
       "<div>\n",
       "<style scoped>\n",
       "    .dataframe tbody tr th:only-of-type {\n",
       "        vertical-align: middle;\n",
       "    }\n",
       "\n",
       "    .dataframe tbody tr th {\n",
       "        vertical-align: top;\n",
       "    }\n",
       "\n",
       "    .dataframe thead th {\n",
       "        text-align: right;\n",
       "    }\n",
       "</style>\n",
       "<table border=\"1\" class=\"dataframe\">\n",
       "  <thead>\n",
       "    <tr style=\"text-align: right;\">\n",
       "      <th></th>\n",
       "      <th>PlayId</th>\n",
       "      <th>Team</th>\n",
       "      <th>X</th>\n",
       "      <th>Y</th>\n",
       "      <th>S</th>\n",
       "      <th>A</th>\n",
       "      <th>Dis</th>\n",
       "      <th>Dir</th>\n",
       "      <th>YardLine</th>\n",
       "      <th>PossessionTeam</th>\n",
       "      <th>NflIdRusher</th>\n",
       "      <th>PlayDirection</th>\n",
       "      <th>Yards</th>\n",
       "      <th>HomeTeamAbbr</th>\n",
       "      <th>VisitorTeamAbbr</th>\n",
       "      <th>FieldPosition</th>\n",
       "    </tr>\n",
       "  </thead>\n",
       "  <tbody>\n",
       "    <tr>\n",
       "      <th>0</th>\n",
       "      <td>20170907000118</td>\n",
       "      <td>away</td>\n",
       "      <td>73.91</td>\n",
       "      <td>34.84</td>\n",
       "      <td>1.69</td>\n",
       "      <td>1.13</td>\n",
       "      <td>0.40</td>\n",
       "      <td>177.18</td>\n",
       "      <td>35</td>\n",
       "      <td>NE</td>\n",
       "      <td>2543773</td>\n",
       "      <td>left</td>\n",
       "      <td>8</td>\n",
       "      <td>NE</td>\n",
       "      <td>KC</td>\n",
       "      <td>NE</td>\n",
       "    </tr>\n",
       "    <tr>\n",
       "      <th>1</th>\n",
       "      <td>20170907000118</td>\n",
       "      <td>away</td>\n",
       "      <td>74.67</td>\n",
       "      <td>32.64</td>\n",
       "      <td>0.42</td>\n",
       "      <td>1.35</td>\n",
       "      <td>0.01</td>\n",
       "      <td>198.70</td>\n",
       "      <td>35</td>\n",
       "      <td>NE</td>\n",
       "      <td>2543773</td>\n",
       "      <td>left</td>\n",
       "      <td>8</td>\n",
       "      <td>NE</td>\n",
       "      <td>KC</td>\n",
       "      <td>NE</td>\n",
       "    </tr>\n",
       "    <tr>\n",
       "      <th>2</th>\n",
       "      <td>20170907000118</td>\n",
       "      <td>away</td>\n",
       "      <td>74.00</td>\n",
       "      <td>33.20</td>\n",
       "      <td>1.22</td>\n",
       "      <td>0.59</td>\n",
       "      <td>0.31</td>\n",
       "      <td>202.73</td>\n",
       "      <td>35</td>\n",
       "      <td>NE</td>\n",
       "      <td>2543773</td>\n",
       "      <td>left</td>\n",
       "      <td>8</td>\n",
       "      <td>NE</td>\n",
       "      <td>KC</td>\n",
       "      <td>NE</td>\n",
       "    </tr>\n",
       "    <tr>\n",
       "      <th>3</th>\n",
       "      <td>20170907000118</td>\n",
       "      <td>away</td>\n",
       "      <td>71.46</td>\n",
       "      <td>27.70</td>\n",
       "      <td>0.42</td>\n",
       "      <td>0.54</td>\n",
       "      <td>0.02</td>\n",
       "      <td>105.64</td>\n",
       "      <td>35</td>\n",
       "      <td>NE</td>\n",
       "      <td>2543773</td>\n",
       "      <td>left</td>\n",
       "      <td>8</td>\n",
       "      <td>NE</td>\n",
       "      <td>KC</td>\n",
       "      <td>NE</td>\n",
       "    </tr>\n",
       "    <tr>\n",
       "      <th>4</th>\n",
       "      <td>20170907000118</td>\n",
       "      <td>away</td>\n",
       "      <td>69.32</td>\n",
       "      <td>35.42</td>\n",
       "      <td>1.82</td>\n",
       "      <td>2.43</td>\n",
       "      <td>0.16</td>\n",
       "      <td>164.31</td>\n",
       "      <td>35</td>\n",
       "      <td>NE</td>\n",
       "      <td>2543773</td>\n",
       "      <td>left</td>\n",
       "      <td>8</td>\n",
       "      <td>NE</td>\n",
       "      <td>KC</td>\n",
       "      <td>NE</td>\n",
       "    </tr>\n",
       "    <tr>\n",
       "      <th>5</th>\n",
       "      <td>20170907000118</td>\n",
       "      <td>away</td>\n",
       "      <td>75.06</td>\n",
       "      <td>24.00</td>\n",
       "      <td>1.01</td>\n",
       "      <td>0.32</td>\n",
       "      <td>0.18</td>\n",
       "      <td>95.01</td>\n",
       "      <td>35</td>\n",
       "      <td>NE</td>\n",
       "      <td>2543773</td>\n",
       "      <td>left</td>\n",
       "      <td>8</td>\n",
       "      <td>NE</td>\n",
       "      <td>KC</td>\n",
       "      <td>NE</td>\n",
       "    </tr>\n",
       "    <tr>\n",
       "      <th>6</th>\n",
       "      <td>20170907000118</td>\n",
       "      <td>away</td>\n",
       "      <td>74.11</td>\n",
       "      <td>16.64</td>\n",
       "      <td>1.11</td>\n",
       "      <td>0.83</td>\n",
       "      <td>0.02</td>\n",
       "      <td>322.59</td>\n",
       "      <td>35</td>\n",
       "      <td>NE</td>\n",
       "      <td>2543773</td>\n",
       "      <td>left</td>\n",
       "      <td>8</td>\n",
       "      <td>NE</td>\n",
       "      <td>KC</td>\n",
       "      <td>NE</td>\n",
       "    </tr>\n",
       "    <tr>\n",
       "      <th>7</th>\n",
       "      <td>20170907000118</td>\n",
       "      <td>away</td>\n",
       "      <td>73.37</td>\n",
       "      <td>18.73</td>\n",
       "      <td>1.24</td>\n",
       "      <td>0.74</td>\n",
       "      <td>0.13</td>\n",
       "      <td>270.04</td>\n",
       "      <td>35</td>\n",
       "      <td>NE</td>\n",
       "      <td>2543773</td>\n",
       "      <td>left</td>\n",
       "      <td>8</td>\n",
       "      <td>NE</td>\n",
       "      <td>KC</td>\n",
       "      <td>NE</td>\n",
       "    </tr>\n",
       "    <tr>\n",
       "      <th>8</th>\n",
       "      <td>20170907000118</td>\n",
       "      <td>away</td>\n",
       "      <td>56.63</td>\n",
       "      <td>26.90</td>\n",
       "      <td>0.26</td>\n",
       "      <td>1.86</td>\n",
       "      <td>0.28</td>\n",
       "      <td>55.31</td>\n",
       "      <td>35</td>\n",
       "      <td>NE</td>\n",
       "      <td>2543773</td>\n",
       "      <td>left</td>\n",
       "      <td>8</td>\n",
       "      <td>NE</td>\n",
       "      <td>KC</td>\n",
       "      <td>NE</td>\n",
       "    </tr>\n",
       "    <tr>\n",
       "      <th>9</th>\n",
       "      <td>20170907000118</td>\n",
       "      <td>away</td>\n",
       "      <td>73.35</td>\n",
       "      <td>38.83</td>\n",
       "      <td>4.55</td>\n",
       "      <td>0.76</td>\n",
       "      <td>0.51</td>\n",
       "      <td>190.84</td>\n",
       "      <td>35</td>\n",
       "      <td>NE</td>\n",
       "      <td>2543773</td>\n",
       "      <td>left</td>\n",
       "      <td>8</td>\n",
       "      <td>NE</td>\n",
       "      <td>KC</td>\n",
       "      <td>NE</td>\n",
       "    </tr>\n",
       "    <tr>\n",
       "      <th>10</th>\n",
       "      <td>20170907000118</td>\n",
       "      <td>away</td>\n",
       "      <td>74.15</td>\n",
       "      <td>28.90</td>\n",
       "      <td>0.72</td>\n",
       "      <td>0.73</td>\n",
       "      <td>0.01</td>\n",
       "      <td>274.14</td>\n",
       "      <td>35</td>\n",
       "      <td>NE</td>\n",
       "      <td>2543773</td>\n",
       "      <td>left</td>\n",
       "      <td>8</td>\n",
       "      <td>NE</td>\n",
       "      <td>KC</td>\n",
       "      <td>NE</td>\n",
       "    </tr>\n",
       "    <tr>\n",
       "      <th>11</th>\n",
       "      <td>20170907000118</td>\n",
       "      <td>home</td>\n",
       "      <td>75.82</td>\n",
       "      <td>17.56</td>\n",
       "      <td>2.30</td>\n",
       "      <td>1.39</td>\n",
       "      <td>0.55</td>\n",
       "      <td>284.15</td>\n",
       "      <td>35</td>\n",
       "      <td>NE</td>\n",
       "      <td>2543773</td>\n",
       "      <td>left</td>\n",
       "      <td>8</td>\n",
       "      <td>NE</td>\n",
       "      <td>KC</td>\n",
       "      <td>NE</td>\n",
       "    </tr>\n",
       "    <tr>\n",
       "      <th>12</th>\n",
       "      <td>20170907000118</td>\n",
       "      <td>home</td>\n",
       "      <td>74.78</td>\n",
       "      <td>33.21</td>\n",
       "      <td>1.71</td>\n",
       "      <td>0.82</td>\n",
       "      <td>0.19</td>\n",
       "      <td>215.90</td>\n",
       "      <td>35</td>\n",
       "      <td>NE</td>\n",
       "      <td>2543773</td>\n",
       "      <td>left</td>\n",
       "      <td>8</td>\n",
       "      <td>NE</td>\n",
       "      <td>KC</td>\n",
       "      <td>NE</td>\n",
       "    </tr>\n",
       "    <tr>\n",
       "      <th>13</th>\n",
       "      <td>20170907000118</td>\n",
       "      <td>home</td>\n",
       "      <td>75.43</td>\n",
       "      <td>32.41</td>\n",
       "      <td>1.50</td>\n",
       "      <td>1.36</td>\n",
       "      <td>0.32</td>\n",
       "      <td>222.76</td>\n",
       "      <td>35</td>\n",
       "      <td>NE</td>\n",
       "      <td>2543773</td>\n",
       "      <td>left</td>\n",
       "      <td>8</td>\n",
       "      <td>NE</td>\n",
       "      <td>KC</td>\n",
       "      <td>NE</td>\n",
       "    </tr>\n",
       "    <tr>\n",
       "      <th>14</th>\n",
       "      <td>20170907000118</td>\n",
       "      <td>home</td>\n",
       "      <td>75.90</td>\n",
       "      <td>25.12</td>\n",
       "      <td>1.38</td>\n",
       "      <td>0.80</td>\n",
       "      <td>0.19</td>\n",
       "      <td>198.55</td>\n",
       "      <td>35</td>\n",
       "      <td>NE</td>\n",
       "      <td>2543773</td>\n",
       "      <td>left</td>\n",
       "      <td>8</td>\n",
       "      <td>NE</td>\n",
       "      <td>KC</td>\n",
       "      <td>NE</td>\n",
       "    </tr>\n",
       "    <tr>\n",
       "      <th>15</th>\n",
       "      <td>20170907000118</td>\n",
       "      <td>home</td>\n",
       "      <td>79.76</td>\n",
       "      <td>29.49</td>\n",
       "      <td>0.84</td>\n",
       "      <td>1.22</td>\n",
       "      <td>0.00</td>\n",
       "      <td>110.86</td>\n",
       "      <td>35</td>\n",
       "      <td>NE</td>\n",
       "      <td>2543773</td>\n",
       "      <td>left</td>\n",
       "      <td>8</td>\n",
       "      <td>NE</td>\n",
       "      <td>KC</td>\n",
       "      <td>NE</td>\n",
       "    </tr>\n",
       "    <tr>\n",
       "      <th>16</th>\n",
       "      <td>20170907000118</td>\n",
       "      <td>home</td>\n",
       "      <td>76.47</td>\n",
       "      <td>36.91</td>\n",
       "      <td>5.15</td>\n",
       "      <td>0.77</td>\n",
       "      <td>0.59</td>\n",
       "      <td>195.09</td>\n",
       "      <td>35</td>\n",
       "      <td>NE</td>\n",
       "      <td>2543773</td>\n",
       "      <td>left</td>\n",
       "      <td>8</td>\n",
       "      <td>NE</td>\n",
       "      <td>KC</td>\n",
       "      <td>NE</td>\n",
       "    </tr>\n",
       "    <tr>\n",
       "      <th>17</th>\n",
       "      <td>20170907000118</td>\n",
       "      <td>home</td>\n",
       "      <td>74.70</td>\n",
       "      <td>19.19</td>\n",
       "      <td>2.10</td>\n",
       "      <td>1.48</td>\n",
       "      <td>0.51</td>\n",
       "      <td>278.52</td>\n",
       "      <td>35</td>\n",
       "      <td>NE</td>\n",
       "      <td>2543773</td>\n",
       "      <td>left</td>\n",
       "      <td>8</td>\n",
       "      <td>NE</td>\n",
       "      <td>KC</td>\n",
       "      <td>NE</td>\n",
       "    </tr>\n",
       "    <tr>\n",
       "      <th>18</th>\n",
       "      <td>20170907000118</td>\n",
       "      <td>home</td>\n",
       "      <td>78.75</td>\n",
       "      <td>30.53</td>\n",
       "      <td>3.63</td>\n",
       "      <td>3.35</td>\n",
       "      <td>0.38</td>\n",
       "      <td>245.74</td>\n",
       "      <td>35</td>\n",
       "      <td>NE</td>\n",
       "      <td>2543773</td>\n",
       "      <td>left</td>\n",
       "      <td>8</td>\n",
       "      <td>NE</td>\n",
       "      <td>KC</td>\n",
       "      <td>NE</td>\n",
       "    </tr>\n",
       "    <tr>\n",
       "      <th>19</th>\n",
       "      <td>20170907000118</td>\n",
       "      <td>home</td>\n",
       "      <td>74.60</td>\n",
       "      <td>31.88</td>\n",
       "      <td>1.86</td>\n",
       "      <td>1.51</td>\n",
       "      <td>0.17</td>\n",
       "      <td>267.32</td>\n",
       "      <td>35</td>\n",
       "      <td>NE</td>\n",
       "      <td>2543773</td>\n",
       "      <td>left</td>\n",
       "      <td>8</td>\n",
       "      <td>NE</td>\n",
       "      <td>KC</td>\n",
       "      <td>NE</td>\n",
       "    </tr>\n",
       "    <tr>\n",
       "      <th>20</th>\n",
       "      <td>20170907000118</td>\n",
       "      <td>home</td>\n",
       "      <td>74.58</td>\n",
       "      <td>29.12</td>\n",
       "      <td>1.00</td>\n",
       "      <td>0.69</td>\n",
       "      <td>0.22</td>\n",
       "      <td>242.05</td>\n",
       "      <td>35</td>\n",
       "      <td>NE</td>\n",
       "      <td>2543773</td>\n",
       "      <td>left</td>\n",
       "      <td>8</td>\n",
       "      <td>NE</td>\n",
       "      <td>KC</td>\n",
       "      <td>NE</td>\n",
       "    </tr>\n",
       "    <tr>\n",
       "      <th>21</th>\n",
       "      <td>20170907000118</td>\n",
       "      <td>home</td>\n",
       "      <td>74.58</td>\n",
       "      <td>28.47</td>\n",
       "      <td>1.70</td>\n",
       "      <td>1.55</td>\n",
       "      <td>0.24</td>\n",
       "      <td>255.67</td>\n",
       "      <td>35</td>\n",
       "      <td>NE</td>\n",
       "      <td>2543773</td>\n",
       "      <td>left</td>\n",
       "      <td>8</td>\n",
       "      <td>NE</td>\n",
       "      <td>KC</td>\n",
       "      <td>NE</td>\n",
       "    </tr>\n",
       "  </tbody>\n",
       "</table>\n",
       "</div>"
      ],
      "text/plain": [
       "            PlayId  Team      X      Y     S     A   Dis     Dir  YardLine  \\\n",
       "0   20170907000118  away  73.91  34.84  1.69  1.13  0.40  177.18        35   \n",
       "1   20170907000118  away  74.67  32.64  0.42  1.35  0.01  198.70        35   \n",
       "2   20170907000118  away  74.00  33.20  1.22  0.59  0.31  202.73        35   \n",
       "3   20170907000118  away  71.46  27.70  0.42  0.54  0.02  105.64        35   \n",
       "4   20170907000118  away  69.32  35.42  1.82  2.43  0.16  164.31        35   \n",
       "5   20170907000118  away  75.06  24.00  1.01  0.32  0.18   95.01        35   \n",
       "6   20170907000118  away  74.11  16.64  1.11  0.83  0.02  322.59        35   \n",
       "7   20170907000118  away  73.37  18.73  1.24  0.74  0.13  270.04        35   \n",
       "8   20170907000118  away  56.63  26.90  0.26  1.86  0.28   55.31        35   \n",
       "9   20170907000118  away  73.35  38.83  4.55  0.76  0.51  190.84        35   \n",
       "10  20170907000118  away  74.15  28.90  0.72  0.73  0.01  274.14        35   \n",
       "11  20170907000118  home  75.82  17.56  2.30  1.39  0.55  284.15        35   \n",
       "12  20170907000118  home  74.78  33.21  1.71  0.82  0.19  215.90        35   \n",
       "13  20170907000118  home  75.43  32.41  1.50  1.36  0.32  222.76        35   \n",
       "14  20170907000118  home  75.90  25.12  1.38  0.80  0.19  198.55        35   \n",
       "15  20170907000118  home  79.76  29.49  0.84  1.22  0.00  110.86        35   \n",
       "16  20170907000118  home  76.47  36.91  5.15  0.77  0.59  195.09        35   \n",
       "17  20170907000118  home  74.70  19.19  2.10  1.48  0.51  278.52        35   \n",
       "18  20170907000118  home  78.75  30.53  3.63  3.35  0.38  245.74        35   \n",
       "19  20170907000118  home  74.60  31.88  1.86  1.51  0.17  267.32        35   \n",
       "20  20170907000118  home  74.58  29.12  1.00  0.69  0.22  242.05        35   \n",
       "21  20170907000118  home  74.58  28.47  1.70  1.55  0.24  255.67        35   \n",
       "\n",
       "   PossessionTeam  NflIdRusher PlayDirection  Yards HomeTeamAbbr  \\\n",
       "0              NE      2543773          left      8           NE   \n",
       "1              NE      2543773          left      8           NE   \n",
       "2              NE      2543773          left      8           NE   \n",
       "3              NE      2543773          left      8           NE   \n",
       "4              NE      2543773          left      8           NE   \n",
       "5              NE      2543773          left      8           NE   \n",
       "6              NE      2543773          left      8           NE   \n",
       "7              NE      2543773          left      8           NE   \n",
       "8              NE      2543773          left      8           NE   \n",
       "9              NE      2543773          left      8           NE   \n",
       "10             NE      2543773          left      8           NE   \n",
       "11             NE      2543773          left      8           NE   \n",
       "12             NE      2543773          left      8           NE   \n",
       "13             NE      2543773          left      8           NE   \n",
       "14             NE      2543773          left      8           NE   \n",
       "15             NE      2543773          left      8           NE   \n",
       "16             NE      2543773          left      8           NE   \n",
       "17             NE      2543773          left      8           NE   \n",
       "18             NE      2543773          left      8           NE   \n",
       "19             NE      2543773          left      8           NE   \n",
       "20             NE      2543773          left      8           NE   \n",
       "21             NE      2543773          left      8           NE   \n",
       "\n",
       "   VisitorTeamAbbr FieldPosition  \n",
       "0               KC            NE  \n",
       "1               KC            NE  \n",
       "2               KC            NE  \n",
       "3               KC            NE  \n",
       "4               KC            NE  \n",
       "5               KC            NE  \n",
       "6               KC            NE  \n",
       "7               KC            NE  \n",
       "8               KC            NE  \n",
       "9               KC            NE  \n",
       "10              KC            NE  \n",
       "11              KC            NE  \n",
       "12              KC            NE  \n",
       "13              KC            NE  \n",
       "14              KC            NE  \n",
       "15              KC            NE  \n",
       "16              KC            NE  \n",
       "17              KC            NE  \n",
       "18              KC            NE  \n",
       "19              KC            NE  \n",
       "20              KC            NE  \n",
       "21              KC            NE  "
      ]
     },
     "execution_count": 13,
     "metadata": {},
     "output_type": "execute_result"
    }
   ],
   "source": [
    "play_id = 20170907000118\n",
    "train[cols].query('PlayId == @play_id')"
   ]
  },
  {
   "cell_type": "markdown",
   "metadata": {},
   "source": [
    "# Data processing"
   ]
  },
  {
   "cell_type": "markdown",
   "metadata": {},
   "source": [
    "- As we assume most people did, we adjusted the data to always be from left to right. Additionally, for training we clip the target to -30 and 50. For X,Y and Dir there is no other adjustment necessary, however, as most have noted, there are some issues with S and A. Apparently, the time frames were slightly different between different plays.\n",
    "\n",
    "- For S, the best adjustment we found is to simply replace it with Dis * 10. A is a bit more tricky as there is apparently some form of leak in 2017 data (check the correlation between rusher A and target). So what we did is to adjust A by multiplying it with (Dis / S) / 0.1. That means we scale it similarly to how we scale S. After all, A only has a tiny signal after this adjustment, and one can easily drop it. As we rely on relative features in the model, we don’t apply any other standardization."
   ]
  },
  {
   "cell_type": "markdown",
   "metadata": {},
   "source": [
    "#### Some team names are not uniform across the data, let's fix them here"
   ]
  },
  {
   "cell_type": "code",
   "execution_count": 14,
   "metadata": {},
   "outputs": [],
   "source": [
    "# create a dictionary of abbreviation to fix\n",
    "map_abbr = {'ARI': 'ARZ', 'BAL': 'BLT', 'CLE': 'CLV', 'HOU': 'HST'}\n",
    "\n",
    "# Add remaining abbreviations to the dictionary \n",
    "for abb in train['PossessionTeam'].unique():\n",
    "    map_abbr[abb] = abb\n",
    "\n",
    "# Fix abbreviations values    \n",
    "train['PossessionTeam'] = train['PossessionTeam'].map(map_abbr)\n",
    "train['HomeTeamAbbr'] = train['HomeTeamAbbr'].map(map_abbr)"
   ]
  },
  {
   "cell_type": "markdown",
   "metadata": {},
   "source": [
    "#### Create a binary variable indicating whether a player is the ball carrier"
   ]
  },
  {
   "cell_type": "code",
   "execution_count": 15,
   "metadata": {},
   "outputs": [],
   "source": [
    "train['IsRusher'] = (train.NflId == train.NflIdRusher)"
   ]
  },
  {
   "cell_type": "markdown",
   "metadata": {},
   "source": [
    "#### Transform the data so that the offensive team always moves in the same direction (left to right)"
   ]
  },
  {
   "cell_type": "markdown",
   "metadata": {},
   "source": [
    "In a football game teams switch sides every quarter, the dataset provides a feature 'PlayDirection' that indicates whether a play is moving left to right or right to left.\n",
    "\n",
    "We need to transform the data so that the offensive team always moves in the same direction (left to right) so that the input features are more consistent for training."
   ]
  },
  {
   "cell_type": "code",
   "execution_count": 16,
   "metadata": {},
   "outputs": [],
   "source": [
    "# Create a binary variable for plays moving left to right (ToLeft)\n",
    "train['ToLeft'] = (train.PlayDirection == \"left\")"
   ]
  },
  {
   "cell_type": "code",
   "execution_count": 17,
   "metadata": {},
   "outputs": [],
   "source": [
    "# Create a variable indicating which team is the offensive team (home vs away)\n",
    "\n",
    "# Initialize TeamOnOffense to \"home\"\n",
    "train['TeamOnOffense'] = \"home\" \n",
    "\n",
    "# Set TeamOnOffense to \"away\" when PossessionTeam is not equal to HomeTeamAbbr\n",
    "train.loc[train.PossessionTeam != train.HomeTeamAbbr, 'TeamOnOffense'] = \"away\"\n",
    "\n",
    "# Create an indicator variable\n",
    "train['IsOnOffense'] = (train.Team == train.TeamOnOffense)"
   ]
  },
  {
   "cell_type": "code",
   "execution_count": 18,
   "metadata": {},
   "outputs": [],
   "source": [
    "# On the graph we can see that X is almost symmetrical distribution with a mean around 60. \n",
    "# This symmetry is due to the fact that X depends on PlayDirection and PlayDirection takes on two values, either right or left."
   ]
  },
  {
   "cell_type": "code",
   "execution_count": 19,
   "metadata": {},
   "outputs": [
    {
     "data": {
      "text/plain": [
       "<seaborn.axisgrid.FacetGrid at 0x1a176d7c88>"
      ]
     },
     "execution_count": 19,
     "metadata": {},
     "output_type": "execute_result"
    },
    {
     "data": {
      "image/png": "[encoded data removed]",
      "text/plain": [
       "<Figure size 720x360 with 2 Axes>"
      ]
     },
     "metadata": {
      "needs_background": "light"
     },
     "output_type": "display_data"
    }
   ],
   "source": [
    "g = sns.FacetGrid(data=train, col='PlayDirection', height=5, aspect=1)\n",
    "g.map(sns.distplot, 'X')"
   ]
  },
  {
   "cell_type": "code",
   "execution_count": 20,
   "metadata": {},
   "outputs": [],
   "source": [
    "# Let's convert X so that the offensive team always left to right"
   ]
  },
  {
   "cell_type": "code",
   "execution_count": 21,
   "metadata": {},
   "outputs": [],
   "source": [
    "train.loc[train.PlayDirection=='left', 'X'] = 120 - train.loc[train.PlayDirection=='left', 'X']"
   ]
  },
  {
   "cell_type": "code",
   "execution_count": 22,
   "metadata": {},
   "outputs": [
    {
     "data": {
      "text/plain": [
       "<seaborn.axisgrid.FacetGrid at 0x1a17aa7630>"
      ]
     },
     "execution_count": 22,
     "metadata": {},
     "output_type": "execute_result"
    },
    {
     "data": {
      "image/png": "[encoded data removed]",
      "text/plain": [
       "<Figure size 720x360 with 2 Axes>"
      ]
     },
     "metadata": {
      "needs_background": "light"
     },
     "output_type": "display_data"
    }
   ],
   "source": [
    "# Let's check the graph again\n",
    "g = sns.FacetGrid(data=train, col='PlayDirection', height=5, aspect=1)\n",
    "g.map(sns.distplot, 'X')"
   ]
  },
  {
   "cell_type": "markdown",
   "metadata": {},
   "source": [
    "After the conversion, X is consistent whether PlayDirection is left or right. Therefore, the offensive team is moving left to right all the time."
   ]
  },
  {
   "cell_type": "markdown",
   "metadata": {},
   "source": [
    "### Make YardLine consistent when PossesssionTeam is different from FieldPosition"
   ]
  },
  {
   "cell_type": "code",
   "execution_count": 23,
   "metadata": {},
   "outputs": [],
   "source": [
    "train['IsPosTeamInFieldPos'] = (train['PossessionTeam'] == train['FieldPosition'])"
   ]
  },
  {
   "cell_type": "code",
   "execution_count": 24,
   "metadata": {},
   "outputs": [
    {
     "data": {
      "text/plain": [
       "<seaborn.axisgrid.FacetGrid at 0x1a1781e080>"
      ]
     },
     "execution_count": 24,
     "metadata": {},
     "output_type": "execute_result"
    },
    {
     "data": {
      "image/png": "[encoded data removed]",
      "text/plain": [
       "<Figure size 720x360 with 2 Axes>"
      ]
     },
     "metadata": {
      "needs_background": "light"
     },
     "output_type": "display_data"
    }
   ],
   "source": [
    "# Let's check the graph again\n",
    "mask = (train['IsRusher']==True)\n",
    "g = sns.FacetGrid(data=train[mask], col='IsPosTeamInFieldPos', height=5, aspect=1)\n",
    "g.map(sns.distplot, 'YardLine')"
   ]
  },
  {
   "cell_type": "markdown",
   "metadata": {},
   "source": [
    "When the play is happening in the defensive team side of the field, the line of scrimmage 'YardLine' should be larger than 50 yards.\n",
    "We can see from the graph on the right that we need to subtract 'YardLine' from 100 to make the conversion."
   ]
  },
  {
   "cell_type": "code",
   "execution_count": 25,
   "metadata": {},
   "outputs": [],
   "source": [
    "# Convert YardLine\n",
    "mask = (train['PossessionTeam'] != train['FieldPosition'])\n",
    "train.loc[mask, 'YardLine'] = 100 - train.loc[mask, 'YardLine']"
   ]
  },
  {
   "cell_type": "code",
   "execution_count": 26,
   "metadata": {},
   "outputs": [
    {
     "data": {
      "text/plain": [
       "<seaborn.axisgrid.FacetGrid at 0x1a19708a20>"
      ]
     },
     "execution_count": 26,
     "metadata": {},
     "output_type": "execute_result"
    },
    {
     "data": {
      "image/png": "[encoded data removed]",
      "text/plain": [
       "<Figure size 720x360 with 2 Axes>"
      ]
     },
     "metadata": {
      "needs_background": "light"
     },
     "output_type": "display_data"
    }
   ],
   "source": [
    "# Let's check the graph again\n",
    "mask = (train['IsRusher']==True)\n",
    "g = sns.FacetGrid(data=train[mask], col='IsPosTeamInFieldPos', height=5, aspect=1)\n",
    "g.map(sns.distplot, 'YardLine')"
   ]
  },
  {
   "cell_type": "markdown",
   "metadata": {},
   "source": [
    "Ok, YardLine looks good after the conversion; it ranges from 0 to 50 when PossessionTeam is in its side of the field and from 50 to 100 when PossessionTeam is in its opponent side."
   ]
  },
  {
   "cell_type": "markdown",
   "metadata": {},
   "source": [
    "# Plot the football field to visualize the offensive/defensive teams as well as the line of scrimmage [3]."
   ]
  },
  {
   "cell_type": "code",
   "execution_count": 27,
   "metadata": {},
   "outputs": [],
   "source": [
    "def create_football_field(linenumbers=True,\n",
    "                          endzones=True,\n",
    "                          highlight_line=False,\n",
    "                          highlight_line_number=50,\n",
    "                          highlighted_name='Line of Scrimmage',\n",
    "                          fifty_is_los=False,\n",
    "                          figsize=(12, 6.33)):\n",
    "    \"\"\"\n",
    "    Function that plots the football field for viewing plays.\n",
    "    Allows for showing or hiding endzones.\n",
    "    \"\"\"\n",
    "    rect = patches.Rectangle((0, 0), 120, 53.3, linewidth=0.1,\n",
    "                             edgecolor='r', facecolor='darkgreen', zorder=0)\n",
    "\n",
    "    fig, ax = plt.subplots(1, figsize=figsize)\n",
    "    ax.add_patch(rect)\n",
    "\n",
    "    plt.plot([10, 10, 10, 20, 20, 30, 30, 40, 40, 50, 50, 60, 60, 70, 70, 80,\n",
    "              80, 90, 90, 100, 100, 110, 110, 120, 0, 0, 120, 120],\n",
    "             [0, 0, 53.3, 53.3, 0, 0, 53.3, 53.3, 0, 0, 53.3, 53.3, 0, 0, 53.3,\n",
    "              53.3, 0, 0, 53.3, 53.3, 0, 0, 53.3, 53.3, 53.3, 0, 0, 53.3],\n",
    "             color='white')\n",
    "    if fifty_is_los:\n",
    "        plt.plot([60, 60], [0, 53.3], color='gold')\n",
    "        plt.text(62, 50, '<- Player Yardline at Snap', color='gold')\n",
    "    # Endzones\n",
    "    if endzones:\n",
    "        ez1 = patches.Rectangle((0, 0), 10, 53.3,\n",
    "                                linewidth=0.1,\n",
    "                                edgecolor='r',\n",
    "                                facecolor='blue',\n",
    "                                alpha=0.2,\n",
    "                                zorder=0)\n",
    "        ez2 = patches.Rectangle((110, 0), 120, 53.3,\n",
    "                                linewidth=0.1,\n",
    "                                edgecolor='r',\n",
    "                                facecolor='blue',\n",
    "                                alpha=0.2,\n",
    "                                zorder=0)\n",
    "        ax.add_patch(ez1)\n",
    "        ax.add_patch(ez2)\n",
    "    plt.xlim(0, 120)\n",
    "    plt.ylim(-5, 58.3)\n",
    "    plt.axis('off')\n",
    "    if linenumbers:\n",
    "        for x in range(20, 110, 10):\n",
    "            numb = x\n",
    "            if x > 50:\n",
    "                numb = 120 - x\n",
    "            plt.text(x, 5, str(numb - 10),\n",
    "                     horizontalalignment='center',\n",
    "                     fontsize=20,  # fontname='Arial',\n",
    "                     color='white')\n",
    "            plt.text(x - 0.95, 53.3 - 5, str(numb - 10),\n",
    "                     horizontalalignment='center',\n",
    "                     fontsize=20,  # fontname='Arial',\n",
    "                     color='white', rotation=180)\n",
    "    if endzones:\n",
    "        hash_range = range(11, 110)\n",
    "    else:\n",
    "        hash_range = range(1, 120)\n",
    "\n",
    "    for x in hash_range:\n",
    "        ax.plot([x, x], [0.4, 0.7], color='white')\n",
    "        ax.plot([x, x], [53.0, 52.5], color='white')\n",
    "        ax.plot([x, x], [22.91, 23.57], color='white')\n",
    "        ax.plot([x, x], [29.73, 30.39], color='white')\n",
    "\n",
    "    if highlight_line:\n",
    "        hl = highlight_line_number + 10\n",
    "        plt.plot([hl, hl], [0, 53.3], color='yellow')\n",
    "        plt.text(hl + 2, 50, '<- {}'.format(highlighted_name),\n",
    "                 color='yellow')\n",
    "    return fig, ax"
   ]
  },
  {
   "cell_type": "code",
   "execution_count": 28,
   "metadata": {},
   "outputs": [
    {
     "name": "stderr",
     "output_type": "stream",
     "text": [
      "No handles with labels found to put in legend.\n"
     ]
    },
    {
     "data": {
      "image/png": "[encoded data removed]",
      "text/plain": [
       "<Figure size 864x455.76 with 1 Axes>"
      ]
     },
     "metadata": {
      "needs_background": "light"
     },
     "output_type": "display_data"
    }
   ],
   "source": [
    "playid = 20181230154157\n",
    "#20170907000345\n",
    "#20181230154157\n",
    "\n",
    "yl = train.query(\"PlayId == @playid\")['YardLine'].tolist()[0]\n",
    "fig, ax = create_football_field(highlight_line=True, highlight_line_number=yl)\n",
    "train.query(\"PlayId == @playid and Team == 'away'\").plot(x='X', y='Y', kind='scatter', ax=ax, color='orange', s=30, legend='Away')\n",
    "train.query(\"PlayId == @playid and Team == 'home'\").plot(x='X', y='Y', kind='scatter', ax=ax, color='blue', s=30, legend='Home')\n",
    "plt.title(f'Play # {playid}')\n",
    "plt.legend()\n",
    "plt.show()"
   ]
  },
  {
   "cell_type": "markdown",
   "metadata": {},
   "source": [
    "### The target variable is provided by the feature 'Yards'. Let's look at its distribution."
   ]
  },
  {
   "cell_type": "code",
   "execution_count": 29,
   "metadata": {},
   "outputs": [],
   "source": [
    "# The target to predict is 'Yards' feature for the rusher.\n",
    "target = train.loc[train.IsRusher==True, 'Yards']"
   ]
  },
  {
   "cell_type": "code",
   "execution_count": 30,
   "metadata": {},
   "outputs": [
    {
     "data": {
      "text/plain": [
       "<matplotlib.axes._subplots.AxesSubplot at 0x1a17ec5550>"
      ]
     },
     "execution_count": 30,
     "metadata": {},
     "output_type": "execute_result"
    },
    {
     "data": {
      "image/png": "[encoded data removed]",
      "text/plain": [
       "<Figure size 432x432 with 1 Axes>"
      ]
     },
     "metadata": {
      "needs_background": "light"
     },
     "output_type": "display_data"
    }
   ],
   "source": [
    "# Let's plot the distribution of the target variable\n",
    "fig, ax = plt.subplots(figsize=(6,6))\n",
    "sns.distplot(target)"
   ]
  },
  {
   "cell_type": "code",
   "execution_count": 31,
   "metadata": {},
   "outputs": [
    {
     "data": {
      "text/plain": [
       "count    31007.000000\n",
       "mean         4.227626\n",
       "std          6.449966\n",
       "min        -15.000000\n",
       "25%          1.000000\n",
       "50%          3.000000\n",
       "75%          6.000000\n",
       "max         99.000000\n",
       "Name: Yards, dtype: float64"
      ]
     },
     "execution_count": 31,
     "metadata": {},
     "output_type": "execute_result"
    }
   ],
   "source": [
    "target.describe()"
   ]
  },
  {
   "cell_type": "code",
   "execution_count": 32,
   "metadata": {},
   "outputs": [
    {
     "data": {
      "text/plain": [
       "<matplotlib.axes._subplots.AxesSubplot at 0x1a185625c0>"
      ]
     },
     "execution_count": 32,
     "metadata": {},
     "output_type": "execute_result"
    },
    {
     "data": {
      "image/png": "[encoded data removed]",
      "text/plain": [
       "<Figure size 432x288 with 1 Axes>"
      ]
     },
     "metadata": {
      "needs_background": "light"
     },
     "output_type": "display_data"
    }
   ],
   "source": [
    "sns.boxplot(target)"
   ]
  },
  {
   "cell_type": "code",
   "execution_count": 33,
   "metadata": {},
   "outputs": [
    {
     "name": "stdout",
     "output_type": "stream",
     "text": [
      "% of target value between -15 and -10: 0.05 %\n",
      "% of target value between -10 and -5: 0.9 %\n",
      "% of target value between -5 and 0: 19.59 %\n",
      "% of target value between 0 and 5: 63.6 %\n",
      "% of target value between 5 and 10: 23.96 %\n",
      "% of target value between 10 and 20: 8.51 %\n",
      "% of target value between 20 and 30: 1.68 %\n",
      "% of target value between 30 and 40: 0.45 %\n",
      "% of target value between 40 and 50: 0.2 %\n",
      "% of target value between 50 and 60: 0.16 %\n",
      "% of target value between 60 and 70: 0.09 %\n",
      "% of target value between 70 and 80: 0.05 %\n",
      "% of target value between 80 and 90: 0.02 %\n",
      "% of target value between 90 and 100: 0.02 %\n"
     ]
    }
   ],
   "source": [
    "# Print the percentage of values for different ranges of the target variable\n",
    "intrvl = [-10, -5, 0, 5, 10,20,30,40,50,60,70,80,90, 100]\n",
    "i=-15\n",
    "total = target.shape[0]\n",
    "for j in intrvl:\n",
    "    pct = round(target.loc[target.between(i,j)].shape[0] / total * 100, 2)\n",
    "    print(f\"% of target value between {i} and {j}: {pct} %\")\n",
    "    i = j"
   ]
  },
  {
   "cell_type": "code",
   "execution_count": 34,
   "metadata": {},
   "outputs": [],
   "source": [
    "# It seems unlikely that the rusher will run more than 50 yards so we'll set the target variable to a maximum of 50\n",
    "train.loc[train.Yards > 50 ,'Yards'] = 50"
   ]
  },
  {
   "cell_type": "markdown",
   "metadata": {},
   "source": [
    "### Converting Speed 'S' using the distance 'Dis'"
   ]
  },
  {
   "cell_type": "code",
   "execution_count": 35,
   "metadata": {},
   "outputs": [
    {
     "data": {
      "text/plain": [
       "<matplotlib.collections.PathCollection at 0x1a19c38518>"
      ]
     },
     "execution_count": 35,
     "metadata": {},
     "output_type": "execute_result"
    },
    {
     "data": {
      "image/png": "[encoded data removed]",
      "text/plain": [
       "<Figure size 432x288 with 1 Axes>"
      ]
     },
     "metadata": {
      "needs_background": "light"
     },
     "output_type": "display_data"
    }
   ],
   "source": [
    "# Converting Speed 'S' using the Distance column; distance is defined as yards traveled in 0.1 second\n",
    "# For some reason, S is slightly off for 2017 data compared to 2018\n",
    "mask = (train['Season']==2017)\n",
    "plt.scatter(train['S'][mask].values, train['Dis'][mask].values)"
   ]
  },
  {
   "cell_type": "code",
   "execution_count": 36,
   "metadata": {},
   "outputs": [
    {
     "data": {
      "text/plain": [
       "<matplotlib.collections.PathCollection at 0x1a1a532860>"
      ]
     },
     "execution_count": 36,
     "metadata": {},
     "output_type": "execute_result"
    },
    {
     "data": {
      "image/png": "[encoded data removed]",
      "text/plain": [
       "<Figure size 432x288 with 1 Axes>"
      ]
     },
     "metadata": {
      "needs_background": "light"
     },
     "output_type": "display_data"
    }
   ],
   "source": [
    "mask = (train['Season']==2018)\n",
    "plt.scatter(train['S'][mask].values, train['Dis'][mask].values)"
   ]
  },
  {
   "cell_type": "code",
   "execution_count": 37,
   "metadata": {},
   "outputs": [],
   "source": [
    "# Let's replace S by Dis * 10 as Dis is defined as yards traveled in 0.1 seconds.\n",
    "train['S'] = train['Dis'] * 10"
   ]
  },
  {
   "cell_type": "markdown",
   "metadata": {},
   "source": [
    "### Normalize the direction 'Dir' of a player (angle in which a player is moving)"
   ]
  },
  {
   "cell_type": "markdown",
   "metadata": {},
   "source": [
    "We're going to normalize Dir as follows [2]:\n",
    "\n",
    "* 0 degrees: the offensive player is moving completely to his left\n",
    "* 90 degrees: the offensive player is moving straight ahead, towards opponent end zone\n",
    "* 180 degrees: the offensive player is moving completely to his right\n",
    "* 270 degrees: the offensive player is moving backwards, towards his own team's end zone (this is generally bad)"
   ]
  },
  {
   "cell_type": "markdown",
   "metadata": {},
   "source": [
    "'Dir' provides the angle in which a player is moving, and PlayDirection tells us which direction the play is headed.\n",
    "Let's plot 'Dir' by 'PlayDirection'."
   ]
  },
  {
   "cell_type": "code",
   "execution_count": 38,
   "metadata": {},
   "outputs": [],
   "source": [
    "train_rusher = train.loc[train['IsRusher']==True,:]"
   ]
  },
  {
   "cell_type": "code",
   "execution_count": 39,
   "metadata": {},
   "outputs": [
    {
     "data": {
      "text/plain": [
       "<seaborn.axisgrid.FacetGrid at 0x1a19f0ce80>"
      ]
     },
     "execution_count": 39,
     "metadata": {},
     "output_type": "execute_result"
    },
    {
     "data": {
      "image/png": "[encoded data removed]",
      "text/plain": [
       "<Figure size 576x288 with 2 Axes>"
      ]
     },
     "metadata": {
      "needs_background": "light"
     },
     "output_type": "display_data"
    }
   ],
   "source": [
    "g = sns.FacetGrid(data=train_rusher, col='PlayDirection', height=4, aspect=1)\n",
    "g.map(sns.distplot, 'Dir')"
   ]
  },
  {
   "cell_type": "markdown",
   "metadata": {},
   "source": [
    "On plays to the left, angles are clustered between 180 and 360, with a handful of angles around 0 to 15 degrees. This can be tricky -- 5 degrees should be treated like 365 degrees, even though it doesn't show up that way in the data. Similarly, among players moving to the right PlayDirection == \"right\", there are a handful of player angles around 350 degrees with most players facing between 0 and 180 degrees. \n",
    "\n",
    "Let's make these values more consistent."
   ]
  },
  {
   "cell_type": "code",
   "execution_count": 40,
   "metadata": {},
   "outputs": [],
   "source": [
    "mask = (train['PlayDirection']=='left') & (train['Dir'] < 90)\n",
    "train['Dir_clean'] = train['Dir'].copy(deep=True)\n",
    "train.loc[mask, 'Dir_clean'] = train.loc[mask, 'Dir_clean'] + 360\n",
    "\n",
    "mask = (train['PlayDirection']=='right') & (train['Dir'] > 270)\n",
    "train.loc[mask, 'Dir_clean'] = train.loc[mask, 'Dir_clean'] - 360"
   ]
  },
  {
   "cell_type": "code",
   "execution_count": 41,
   "metadata": {},
   "outputs": [
    {
     "data": {
      "text/plain": [
       "<seaborn.axisgrid.FacetGrid at 0x1a19c5d0f0>"
      ]
     },
     "execution_count": 41,
     "metadata": {},
     "output_type": "execute_result"
    },
    {
     "data": {
      "image/png": "[encoded data removed]",
      "text/plain": [
       "<Figure size 576x288 with 2 Axes>"
      ]
     },
     "metadata": {
      "needs_background": "light"
     },
     "output_type": "display_data"
    }
   ],
   "source": [
    "mask = (train['IsRusher']==True)\n",
    "train_rusher = train.loc[mask,:]\n",
    "\n",
    "g = sns.FacetGrid(data=train_rusher, col='PlayDirection', height=4, aspect=1)\n",
    "g.map(sns.distplot, 'Dir_clean')"
   ]
  },
  {
   "cell_type": "markdown",
   "metadata": {},
   "source": [
    "The two charts look more symmetrical now."
   ]
  },
  {
   "cell_type": "markdown",
   "metadata": {},
   "source": [
    "To make 'Dir' consistent regardless of PlayDirection, we need to subtract 180 from 'Dir' when PlayDirection == left. "
   ]
  },
  {
   "cell_type": "code",
   "execution_count": 42,
   "metadata": {},
   "outputs": [],
   "source": [
    "train.loc[train.PlayDirection=='left', 'Dir_clean'] = train.loc[train.PlayDirection=='left', 'Dir_clean']-180"
   ]
  },
  {
   "cell_type": "code",
   "execution_count": 43,
   "metadata": {},
   "outputs": [],
   "source": [
    "# Let's plot final results for Dir_clean"
   ]
  },
  {
   "cell_type": "code",
   "execution_count": 44,
   "metadata": {},
   "outputs": [
    {
     "data": {
      "text/plain": [
       "<seaborn.axisgrid.FacetGrid at 0x1a1af7ee80>"
      ]
     },
     "execution_count": 44,
     "metadata": {},
     "output_type": "execute_result"
    },
    {
     "data": {
      "image/png": "[encoded data removed]",
      "text/plain": [
       "<Figure size 576x288 with 2 Axes>"
      ]
     },
     "metadata": {
      "needs_background": "light"
     },
     "output_type": "display_data"
    }
   ],
   "source": [
    "mask = (train['IsRusher']==True)\n",
    "train_rusher = train.loc[mask,:]\n",
    "\n",
    "g = sns.FacetGrid(data=train_rusher, col='PlayDirection', height=4, aspect=1)\n",
    "g.map(sns.distplot, 'Dir_clean')"
   ]
  },
  {
   "cell_type": "markdown",
   "metadata": {},
   "source": [
    "We can see that the graphs are symmetrical and the values are distributed in the same range."
   ]
  },
  {
   "cell_type": "markdown",
   "metadata": {},
   "source": [
    "### Convert angles to radians (this will be useful when calculating cosine and sine)"
   ]
  },
  {
   "cell_type": "code",
   "execution_count": 45,
   "metadata": {},
   "outputs": [],
   "source": [
    "# Convert angles to radians\n",
    "train['DirRadians']  = train['Dir_clean'] * np.pi / 180"
   ]
  },
  {
   "cell_type": "code",
   "execution_count": 46,
   "metadata": {},
   "outputs": [
    {
     "data": {
      "text/plain": [
       "<seaborn.axisgrid.FacetGrid at 0x1a1f12fc18>"
      ]
     },
     "execution_count": 46,
     "metadata": {},
     "output_type": "execute_result"
    },
    {
     "data": {
      "image/png": "[encoded data removed]",
      "text/plain": [
       "<Figure size 576x288 with 2 Axes>"
      ]
     },
     "metadata": {
      "needs_background": "light"
     },
     "output_type": "display_data"
    }
   ],
   "source": [
    "# Plot angles in radians as a sanity check\n",
    "mask = (train['IsRusher']==True)\n",
    "train_rusher = train.loc[mask,:]\n",
    "\n",
    "g = sns.FacetGrid(data=train_rusher, col='PlayDirection', height=4, aspect=1)\n",
    "g.map(sns.distplot, 'DirRadians')"
   ]
  },
  {
   "cell_type": "markdown",
   "metadata": {},
   "source": [
    "### Let's plot players Speed and Direction (in radians) to confirm the changes we made"
   ]
  },
  {
   "cell_type": "code",
   "execution_count": 47,
   "metadata": {},
   "outputs": [],
   "source": [
    "def get_Sx_Sy(angle, speed):\n",
    "    \"\"\" Function to project of Speed and Direction (angle in radians) on X and Y axis\n",
    "    \"\"\"\n",
    "    Sx = speed * math.cos(angle)\n",
    "    Sy = speed * math.sin(angle)\n",
    "    return Sx, Sy"
   ]
  },
  {
   "cell_type": "code",
   "execution_count": 48,
   "metadata": {},
   "outputs": [
    {
     "name": "stderr",
     "output_type": "stream",
     "text": [
      "No handles with labels found to put in legend.\n"
     ]
    },
    {
     "data": {
      "image/png": "[encoded data removed]",
      "text/plain": [
       "<Figure size 864x455.76 with 1 Axes>"
      ]
     },
     "metadata": {
      "needs_background": "light"
     },
     "output_type": "display_data"
    }
   ],
   "source": [
    "# Select a specific play_id\n",
    "play_id = 20170907000189\n",
    "\n",
    "fig, ax = create_football_field()\n",
    "# Plot the away team players in orange\n",
    "train.query(\"PlayId == @play_id and Team == 'away'\").plot(x='X', y='Y', kind='scatter', ax=ax, color='orange', s=50, legend='Away')\n",
    "# Plot the away team players in blue\n",
    "train.query(\"PlayId == @play_id and Team == 'home'\").plot(x='X', y='Y', kind='scatter', ax=ax, color='blue', s=50, legend='Home')\n",
    "# Plot the rusher in red\n",
    "train.query(\"PlayId == @play_id and NflIdRusher == NflId\").plot(x='X', y='Y', kind='scatter', ax=ax, color='red', s=100, legend='Rusher')\n",
    "\n",
    "# Get rusher data\n",
    "rusher_data = train.query(\"PlayId == @play_id and NflIdRusher == NflId\")\n",
    "yards_covered = rusher_data[\"Yards\"].values[0]\n",
    "\n",
    "# Get rusher X and Y coordinates\n",
    "x = rusher_data[\"X\"].values[0]\n",
    "y = rusher_data[\"Y\"].values[0]\n",
    "\n",
    "# Get rusher direction in radians (angle)\n",
    "rusher_dir = rusher_data[\"DirRadians\"].values[0]\n",
    "\n",
    "# Get rusher speed\n",
    "rusher_speed = rusher_data[\"S\"].values[0]\n",
    "\n",
    "# Project rusher speed and direction on the X and Y axis\n",
    "Sx, Sy = get_Sx_Sy(rusher_dir, rusher_speed)\n",
    "\n",
    "ax.arrow(x, y, Sx, Sy, length_includes_head=True, width=0.5, color='red')\n",
    "plt.title(f'Play # {play_id} and yard distance is {yards_covered}', fontsize=20)\n",
    "plt.legend()\n",
    "plt.show()"
   ]
  },
  {
   "cell_type": "markdown",
   "metadata": {},
   "source": [
    "**The red arrow shows the direction in which the rusher is headed, and the length of the arrow indicates his speed.**"
   ]
  },
  {
   "cell_type": "markdown",
   "metadata": {},
   "source": [
    "# Modeling approach"
   ]
  },
  {
   "cell_type": "markdown",
   "metadata": {},
   "source": [
    "**As our goal is to predict how many yards will the rusher (in red) gain after receiving the ball, we'll assume that a rushing play consists of:**\n",
    "\n",
    "- **A rusher, whose aim is to run forward as far as possible.**\n",
    "\n",
    "- **11 defense players who are trying to stop the rusher.**\n",
    "- **10 remaining offense players trying to prevent defenders from blocking or tackling the rusher.**\n",
    "\n",
    "**This description already implies connections between which players are important and which might.**"
   ]
  },
  {
   "cell_type": "markdown",
   "metadata": {},
   "source": [
    "If we focus on the rusher and remove other offense team players, it looks like a simple game where one player tries to run away and 11 others try to catch him. We assume that as soon as the rushing play starts, every defender regardless of the position, will focus on stopping the rusher asap and every defender has a chance to do it. The chances of a defender to tackle the rusher (as well as estimated location of the tackle) depend on their relative location, speed and direction of movements."
   ]
  },
  {
   "cell_type": "markdown",
   "metadata": {},
   "source": [
    "That points to the idea of a **convolution over individual defenders using relative locations and speeds, and then applying pooling on top.**"
   ]
  },
  {
   "cell_type": "markdown",
   "metadata": {},
   "source": [
    "To include the offense team player we follow the same logic - these 10 players will try to block or tackle any of the defender if there is a risk of getting the rusher stopped. So, to assess the position of a defender we want to go through all the offense team players, use their location and speed relative to the defender, and then aggregate. To do so, we apply **convolution and pooling again.**"
   ]
  },
  {
   "cell_type": "markdown",
   "metadata": {},
   "source": [
    "## Converting a play into a 3D tensor"
   ]
  },
  {
   "cell_type": "markdown",
   "metadata": {},
   "source": [
    "**Each play is converted into a 3D tensor with the following shape 11x10x10.**\n",
    "The 3 dimensions correspond to: 11 defenders x 10 offense players x 10 numeric features that we're going to create from the original data:"
   ]
  },
  {
   "cell_type": "markdown",
   "metadata": {},
   "source": [
    "<img src=\"images/3D_tensor.png\">"
   ]
  },
  {
   "cell_type": "markdown",
   "metadata": {},
   "source": [
    "**The numeric features are listed below:**\n",
    "1. Sx: defender's speed projected on X axis. It is constant across the offense axis. \n",
    "2. Sy: defender's speed projected on Y axis. It is constant across the offense axis.\n",
    "3. Def_X - Rush_X: Defender's X coordinate relative to rusher (constant across the offense axis).\n",
    "4. Def_Y - Rush_Y: Defender's Y coordinate relative to rusher (constant across the offense axis).\n",
    "5. Def_Sx - Rush_Sx: Sx relative to rusher (constant across the offense axis).\n",
    "6. Def_Sy - Rush_Sy: Sy relative to rusher (constant across the offense axis).\n",
    "7. Defender's X coordinate relative to each offense player except the rusher.\n",
    "8. Defender's Y coordinate relative to each offense player except the rusher.\n",
    "9. Defender's Sx relative to each offense player except the rusher.\n",
    "10. Defender's Sy relative to each offense player except the rusher."
   ]
  },
  {
   "cell_type": "markdown",
   "metadata": {},
   "source": [
    "#### Create new feature vectors for the model on sample data"
   ]
  },
  {
   "cell_type": "code",
   "execution_count": 51,
   "metadata": {},
   "outputs": [],
   "source": [
    "def get_defender_relative_coord(df):\n",
    "    \"\"\"\n",
    "    Function to get defender's X and Y relative to the rusher for a specific play.\n",
    "    \"\"\"\n",
    "    # Get rusher X and Y\n",
    "    rushX = df.loc[df.IsRusher==True,'X'].values[0]\n",
    "    rushY = df.loc[df.IsRusher==True,'Y'].values[0]\n",
    "    \n",
    "    # Loop through defenders and compute relative coordinates X and Y\n",
    "    def_X = df.loc[df.IsOnOffense==False]['X'].apply(lambda x : x - rushX)\n",
    "    def_Y = df.loc[df.IsOnOffense==False]['Y'].apply(lambda x : x - rushY)    \n",
    "    \n",
    "    # Return results\n",
    "    return def_X, def_Y"
   ]
  },
  {
   "cell_type": "code",
   "execution_count": 52,
   "metadata": {},
   "outputs": [],
   "source": [
    "def get_Sx_Sy(angle, speed):\n",
    "    \"\"\"\n",
    "    Function to get the projection of Speed and Angle on X and Y axis for a player.\n",
    "    \"\"\"\n",
    "    Sx = speed * math.cos(angle)\n",
    "    Sy = speed * math.sin(angle)\n",
    "    return Sx, Sy"
   ]
  },
  {
   "cell_type": "code",
   "execution_count": 156,
   "metadata": {},
   "outputs": [],
   "source": [
    "def get_defenders_vs_offense_features(df):\n",
    "    \"\"\"\n",
    "    Function to get defenders features relative to offense players\n",
    "    \"\"\"\n",
    "    \n",
    "    def_rel_X = []\n",
    "    def_rel_Y = []\n",
    "    def_rel_Sx = []\n",
    "    def_rel_Sy = []\n",
    "\n",
    "    for def_row in df.loc[df.IsOnOffense==False,].iterrows():\n",
    "        # Get defender X and Y\n",
    "        def_X = def_row[1]['X']\n",
    "        def_Y = def_row[1]['Y']\n",
    "        # Get defender Sx and Sy\n",
    "        def_Sx = get_Sx_Sy(angle=def_row[1]['DirRadians'], speed=def_row[1]['S'])[0]\n",
    "        def_Sy = get_Sx_Sy(angle=def_row[1]['DirRadians'], speed=def_row[1]['S'])[1]\n",
    "\n",
    "        # Loop through offense team except the rusher and compute defender's relative coordinates\n",
    "        mask = (df.IsOnOffense==True) & (df.IsRusher==False)\n",
    "        for off_row in df.loc[mask,].iterrows():\n",
    "            # Get offensive player X and Y\n",
    "            off_X = off_row[1]['X']\n",
    "            off_Y = off_row[1]['Y']\n",
    "\n",
    "            # Get offensive player Sx and Sy\n",
    "            off_Sx = get_Sx_Sy(angle=off_row[1]['DirRadians'], speed=def_row[1]['S'])[0]\n",
    "            off_Sy = get_Sx_Sy(angle=off_row[1]['DirRadians'], speed=def_row[1]['S'])[1]\n",
    "\n",
    "            # Compute defender relative X, Y, Sx and Sy\n",
    "            def_rel_X.append(def_X - off_X)\n",
    "            def_rel_Y.append(def_Y - off_Y)\n",
    "            def_rel_Sx.append(def_Sx - off_Sx)\n",
    "            def_rel_Sy.append(def_Sy - off_Sy)\n",
    "\n",
    "    # Convert lists to arrays\n",
    "    def_rel_X = np.array(def_rel_X).reshape(11,10)\n",
    "    def_rel_Y = np.array(def_rel_Y).reshape(11,10)\n",
    "    def_rel_Sx = np.array(def_rel_Sx).reshape(11,10)\n",
    "    def_rel_Sy = np.array(def_rel_Sy).reshape(11,10)    \n",
    "       \n",
    "    return def_rel_X, def_rel_Y, def_rel_Sx, def_rel_Sy"
   ]
  },
  {
   "cell_type": "code",
   "execution_count": 174,
   "metadata": {},
   "outputs": [],
   "source": [
    "def create_def_rusher_features(df):\n",
    "    \"\"\"\n",
    "    Function to get defenders Sx, Sy as well their features relative to the rusher\n",
    "    \"\"\"\n",
    "    # Create Sx channel\n",
    "    Sx = np.array(df.loc[df.IsOnOffense==False][['DirRadians', 'S']].apply(lambda x : get_Sx_Sy(angle=x[0], speed=x[1])[0], axis=1))\n",
    "\n",
    "    # Create Sy channel\n",
    "    Sy = np.array(df.loc[df.IsOnOffense==False][['DirRadians', 'S']].apply(lambda x : get_Sx_Sy(angle=x[0], speed=x[1])[1], axis=1))\n",
    "    \n",
    "    # Create X coordinate relative to rusher (constant across the offense axis).\n",
    "    def_rel_X = np.array(get_defender_relative_coord(df)[0])\n",
    "    \n",
    "    # Create Y coordinate relative to rusher (constant across the offense axis).\n",
    "    def_rel_Y = np.array(get_defender_relative_coord(df)[1])\n",
    "   \n",
    "    # Get rusher Sx and Sy\n",
    "    rush_Sx = np.array(df.loc[df.IsRusher==True][['DirRadians', 'S']].apply(lambda x : get_Sx_Sy(angle=x[0], speed=x[1])[0], axis=1))\n",
    "    rush_Sy = np.array(df.loc[df.IsRusher==True][['DirRadians', 'S']].apply(lambda x : get_Sx_Sy(angle=x[0], speed=x[1])[1], axis=1))\n",
    "       \n",
    "    # Compute defender Sx and Sy relative to rusher (constant across the offense axis).\n",
    "    def_rel_Sx = Sx - rush_Sx\n",
    "    def_rel_Sy = Sy - rush_Sy\n",
    "    \n",
    "    return Sx, Sy, def_rel_X, def_rel_Y, def_rel_Sx, def_rel_Sy"
   ]
  },
  {
   "cell_type": "code",
   "execution_count": 180,
   "metadata": {},
   "outputs": [],
   "source": [
    "def create_play_tensor(df):\n",
    "    \"\"\"\n",
    "    Function to create the 3D tensor for a specific play\n",
    "    \"\"\"\n",
    "                \n",
    "    # get defender and \"defender vs rusher\" features\n",
    "    result = np.repeat(create_def_rusher_features(test),repeats=10, axis=0).reshape(11,10,6)\n",
    "    \n",
    "    # Compute defenders coordinates and speed relative to each offense team player except the rusher\n",
    "    def_vs_off_arrays = get_defenders_vs_offense_features(df)\n",
    "    \n",
    "    # Loop through def_vs_off_arrays and concatenate values to result following axis 2\n",
    "    for arr in def_vs_off_arrays:\n",
    "        arr = arr.reshape(11, 10, 1)\n",
    "        result = np.concatenate((result, arr), axis=2)\n",
    "    \n",
    "    # Make sure the result is of shape (11, 10, 10)\n",
    "    assert result.shape == (11, 10, 10)\n",
    "        \n",
    "    return result"
   ]
  },
  {
   "cell_type": "markdown",
   "metadata": {},
   "source": [
    "#### Test functions on a specific play"
   ]
  },
  {
   "cell_type": "code",
   "execution_count": 49,
   "metadata": {},
   "outputs": [],
   "source": [
    "cols = ['PlayId', 'Team', 'X', 'Y', 'S', 'DirRadians',  'NflId', 'NflIdRusher',  'Yards', 'IsRusher', 'PlayDirection', 'IsOnOffense']\n",
    "test = train[cols].copy(deep=True)"
   ]
  },
  {
   "cell_type": "code",
   "execution_count": 50,
   "metadata": {},
   "outputs": [
    {
     "data": {
      "text/html": [
       "<div>\n",
       "<style scoped>\n",
       "    .dataframe tbody tr th:only-of-type {\n",
       "        vertical-align: middle;\n",
       "    }\n",
       "\n",
       "    .dataframe tbody tr th {\n",
       "        vertical-align: top;\n",
       "    }\n",
       "\n",
       "    .dataframe thead th {\n",
       "        text-align: right;\n",
       "    }\n",
       "</style>\n",
       "<table border=\"1\" class=\"dataframe\">\n",
       "  <thead>\n",
       "    <tr style=\"text-align: right;\">\n",
       "      <th></th>\n",
       "      <th>PlayId</th>\n",
       "      <th>Team</th>\n",
       "      <th>X</th>\n",
       "      <th>Y</th>\n",
       "      <th>S</th>\n",
       "      <th>DirRadians</th>\n",
       "      <th>NflId</th>\n",
       "      <th>NflIdRusher</th>\n",
       "      <th>Yards</th>\n",
       "      <th>IsRusher</th>\n",
       "      <th>PlayDirection</th>\n",
       "      <th>IsOnOffense</th>\n",
       "    </tr>\n",
       "  </thead>\n",
       "  <tbody>\n",
       "    <tr>\n",
       "      <th>0</th>\n",
       "      <td>20170907000118</td>\n",
       "      <td>away</td>\n",
       "      <td>46.09</td>\n",
       "      <td>34.84</td>\n",
       "      <td>4.0</td>\n",
       "      <td>-0.049218</td>\n",
       "      <td>496723</td>\n",
       "      <td>2543773</td>\n",
       "      <td>8</td>\n",
       "      <td>False</td>\n",
       "      <td>left</td>\n",
       "      <td>False</td>\n",
       "    </tr>\n",
       "    <tr>\n",
       "      <th>1</th>\n",
       "      <td>20170907000118</td>\n",
       "      <td>away</td>\n",
       "      <td>45.33</td>\n",
       "      <td>32.64</td>\n",
       "      <td>0.1</td>\n",
       "      <td>0.326377</td>\n",
       "      <td>2495116</td>\n",
       "      <td>2543773</td>\n",
       "      <td>8</td>\n",
       "      <td>False</td>\n",
       "      <td>left</td>\n",
       "      <td>False</td>\n",
       "    </tr>\n",
       "    <tr>\n",
       "      <th>2</th>\n",
       "      <td>20170907000118</td>\n",
       "      <td>away</td>\n",
       "      <td>46.00</td>\n",
       "      <td>33.20</td>\n",
       "      <td>3.1</td>\n",
       "      <td>0.396713</td>\n",
       "      <td>2495493</td>\n",
       "      <td>2543773</td>\n",
       "      <td>8</td>\n",
       "      <td>False</td>\n",
       "      <td>left</td>\n",
       "      <td>False</td>\n",
       "    </tr>\n",
       "    <tr>\n",
       "      <th>3</th>\n",
       "      <td>20170907000118</td>\n",
       "      <td>away</td>\n",
       "      <td>48.54</td>\n",
       "      <td>27.70</td>\n",
       "      <td>0.2</td>\n",
       "      <td>-1.297827</td>\n",
       "      <td>2506353</td>\n",
       "      <td>2543773</td>\n",
       "      <td>8</td>\n",
       "      <td>False</td>\n",
       "      <td>left</td>\n",
       "      <td>False</td>\n",
       "    </tr>\n",
       "    <tr>\n",
       "      <th>4</th>\n",
       "      <td>20170907000118</td>\n",
       "      <td>away</td>\n",
       "      <td>50.68</td>\n",
       "      <td>35.42</td>\n",
       "      <td>1.6</td>\n",
       "      <td>-0.273842</td>\n",
       "      <td>2530794</td>\n",
       "      <td>2543773</td>\n",
       "      <td>8</td>\n",
       "      <td>False</td>\n",
       "      <td>left</td>\n",
       "      <td>False</td>\n",
       "    </tr>\n",
       "    <tr>\n",
       "      <th>5</th>\n",
       "      <td>20170907000118</td>\n",
       "      <td>away</td>\n",
       "      <td>44.94</td>\n",
       "      <td>24.00</td>\n",
       "      <td>1.8</td>\n",
       "      <td>-1.483355</td>\n",
       "      <td>2543494</td>\n",
       "      <td>2543773</td>\n",
       "      <td>8</td>\n",
       "      <td>False</td>\n",
       "      <td>left</td>\n",
       "      <td>False</td>\n",
       "    </tr>\n",
       "    <tr>\n",
       "      <th>6</th>\n",
       "      <td>20170907000118</td>\n",
       "      <td>away</td>\n",
       "      <td>45.89</td>\n",
       "      <td>16.64</td>\n",
       "      <td>0.2</td>\n",
       "      <td>2.488665</td>\n",
       "      <td>2543637</td>\n",
       "      <td>2543773</td>\n",
       "      <td>8</td>\n",
       "      <td>False</td>\n",
       "      <td>left</td>\n",
       "      <td>False</td>\n",
       "    </tr>\n",
       "    <tr>\n",
       "      <th>7</th>\n",
       "      <td>20170907000118</td>\n",
       "      <td>away</td>\n",
       "      <td>46.63</td>\n",
       "      <td>18.73</td>\n",
       "      <td>1.3</td>\n",
       "      <td>1.571494</td>\n",
       "      <td>2543851</td>\n",
       "      <td>2543773</td>\n",
       "      <td>8</td>\n",
       "      <td>False</td>\n",
       "      <td>left</td>\n",
       "      <td>False</td>\n",
       "    </tr>\n",
       "    <tr>\n",
       "      <th>8</th>\n",
       "      <td>20170907000118</td>\n",
       "      <td>away</td>\n",
       "      <td>63.37</td>\n",
       "      <td>26.90</td>\n",
       "      <td>2.8</td>\n",
       "      <td>4.106934</td>\n",
       "      <td>2550257</td>\n",
       "      <td>2543773</td>\n",
       "      <td>8</td>\n",
       "      <td>False</td>\n",
       "      <td>left</td>\n",
       "      <td>False</td>\n",
       "    </tr>\n",
       "    <tr>\n",
       "      <th>9</th>\n",
       "      <td>20170907000118</td>\n",
       "      <td>away</td>\n",
       "      <td>46.65</td>\n",
       "      <td>38.83</td>\n",
       "      <td>5.1</td>\n",
       "      <td>0.189194</td>\n",
       "      <td>2552488</td>\n",
       "      <td>2543773</td>\n",
       "      <td>8</td>\n",
       "      <td>False</td>\n",
       "      <td>left</td>\n",
       "      <td>False</td>\n",
       "    </tr>\n",
       "    <tr>\n",
       "      <th>10</th>\n",
       "      <td>20170907000118</td>\n",
       "      <td>away</td>\n",
       "      <td>45.85</td>\n",
       "      <td>28.90</td>\n",
       "      <td>0.1</td>\n",
       "      <td>1.643053</td>\n",
       "      <td>2556369</td>\n",
       "      <td>2543773</td>\n",
       "      <td>8</td>\n",
       "      <td>False</td>\n",
       "      <td>left</td>\n",
       "      <td>False</td>\n",
       "    </tr>\n",
       "    <tr>\n",
       "      <th>11</th>\n",
       "      <td>20170907000118</td>\n",
       "      <td>home</td>\n",
       "      <td>44.18</td>\n",
       "      <td>17.56</td>\n",
       "      <td>5.5</td>\n",
       "      <td>1.817760</td>\n",
       "      <td>2649</td>\n",
       "      <td>2543773</td>\n",
       "      <td>8</td>\n",
       "      <td>False</td>\n",
       "      <td>left</td>\n",
       "      <td>True</td>\n",
       "    </tr>\n",
       "    <tr>\n",
       "      <th>12</th>\n",
       "      <td>20170907000118</td>\n",
       "      <td>home</td>\n",
       "      <td>45.22</td>\n",
       "      <td>33.21</td>\n",
       "      <td>1.9</td>\n",
       "      <td>0.626573</td>\n",
       "      <td>497240</td>\n",
       "      <td>2543773</td>\n",
       "      <td>8</td>\n",
       "      <td>False</td>\n",
       "      <td>left</td>\n",
       "      <td>True</td>\n",
       "    </tr>\n",
       "    <tr>\n",
       "      <th>13</th>\n",
       "      <td>20170907000118</td>\n",
       "      <td>home</td>\n",
       "      <td>44.57</td>\n",
       "      <td>32.41</td>\n",
       "      <td>3.2</td>\n",
       "      <td>0.746303</td>\n",
       "      <td>2495131</td>\n",
       "      <td>2543773</td>\n",
       "      <td>8</td>\n",
       "      <td>False</td>\n",
       "      <td>left</td>\n",
       "      <td>True</td>\n",
       "    </tr>\n",
       "    <tr>\n",
       "      <th>14</th>\n",
       "      <td>20170907000118</td>\n",
       "      <td>home</td>\n",
       "      <td>44.10</td>\n",
       "      <td>25.12</td>\n",
       "      <td>1.9</td>\n",
       "      <td>0.323759</td>\n",
       "      <td>2495232</td>\n",
       "      <td>2543773</td>\n",
       "      <td>8</td>\n",
       "      <td>False</td>\n",
       "      <td>left</td>\n",
       "      <td>True</td>\n",
       "    </tr>\n",
       "    <tr>\n",
       "      <th>15</th>\n",
       "      <td>20170907000118</td>\n",
       "      <td>home</td>\n",
       "      <td>40.24</td>\n",
       "      <td>29.49</td>\n",
       "      <td>0.0</td>\n",
       "      <td>-1.206721</td>\n",
       "      <td>2504211</td>\n",
       "      <td>2543773</td>\n",
       "      <td>8</td>\n",
       "      <td>False</td>\n",
       "      <td>left</td>\n",
       "      <td>True</td>\n",
       "    </tr>\n",
       "    <tr>\n",
       "      <th>16</th>\n",
       "      <td>20170907000118</td>\n",
       "      <td>home</td>\n",
       "      <td>43.53</td>\n",
       "      <td>36.91</td>\n",
       "      <td>5.9</td>\n",
       "      <td>0.263370</td>\n",
       "      <td>2530515</td>\n",
       "      <td>2543773</td>\n",
       "      <td>8</td>\n",
       "      <td>False</td>\n",
       "      <td>left</td>\n",
       "      <td>True</td>\n",
       "    </tr>\n",
       "    <tr>\n",
       "      <th>17</th>\n",
       "      <td>20170907000118</td>\n",
       "      <td>home</td>\n",
       "      <td>45.30</td>\n",
       "      <td>19.19</td>\n",
       "      <td>5.1</td>\n",
       "      <td>1.719498</td>\n",
       "      <td>2543498</td>\n",
       "      <td>2543773</td>\n",
       "      <td>8</td>\n",
       "      <td>False</td>\n",
       "      <td>left</td>\n",
       "      <td>True</td>\n",
       "    </tr>\n",
       "    <tr>\n",
       "      <th>18</th>\n",
       "      <td>20170907000118</td>\n",
       "      <td>home</td>\n",
       "      <td>41.25</td>\n",
       "      <td>30.53</td>\n",
       "      <td>3.8</td>\n",
       "      <td>1.147379</td>\n",
       "      <td>2543773</td>\n",
       "      <td>2543773</td>\n",
       "      <td>8</td>\n",
       "      <td>True</td>\n",
       "      <td>left</td>\n",
       "      <td>True</td>\n",
       "    </tr>\n",
       "    <tr>\n",
       "      <th>19</th>\n",
       "      <td>20170907000118</td>\n",
       "      <td>home</td>\n",
       "      <td>45.40</td>\n",
       "      <td>31.88</td>\n",
       "      <td>1.7</td>\n",
       "      <td>1.524022</td>\n",
       "      <td>2552563</td>\n",
       "      <td>2543773</td>\n",
       "      <td>8</td>\n",
       "      <td>False</td>\n",
       "      <td>left</td>\n",
       "      <td>True</td>\n",
       "    </tr>\n",
       "    <tr>\n",
       "      <th>20</th>\n",
       "      <td>20170907000118</td>\n",
       "      <td>home</td>\n",
       "      <td>45.42</td>\n",
       "      <td>29.12</td>\n",
       "      <td>2.2</td>\n",
       "      <td>1.082977</td>\n",
       "      <td>2553632</td>\n",
       "      <td>2543773</td>\n",
       "      <td>8</td>\n",
       "      <td>False</td>\n",
       "      <td>left</td>\n",
       "      <td>True</td>\n",
       "    </tr>\n",
       "    <tr>\n",
       "      <th>21</th>\n",
       "      <td>20170907000118</td>\n",
       "      <td>home</td>\n",
       "      <td>45.42</td>\n",
       "      <td>28.47</td>\n",
       "      <td>2.4</td>\n",
       "      <td>1.320691</td>\n",
       "      <td>2555281</td>\n",
       "      <td>2543773</td>\n",
       "      <td>8</td>\n",
       "      <td>False</td>\n",
       "      <td>left</td>\n",
       "      <td>True</td>\n",
       "    </tr>\n",
       "  </tbody>\n",
       "</table>\n",
       "</div>"
      ],
      "text/plain": [
       "            PlayId  Team      X      Y    S  DirRadians    NflId  NflIdRusher  \\\n",
       "0   20170907000118  away  46.09  34.84  4.0   -0.049218   496723      2543773   \n",
       "1   20170907000118  away  45.33  32.64  0.1    0.326377  2495116      2543773   \n",
       "2   20170907000118  away  46.00  33.20  3.1    0.396713  2495493      2543773   \n",
       "3   20170907000118  away  48.54  27.70  0.2   -1.297827  2506353      2543773   \n",
       "4   20170907000118  away  50.68  35.42  1.6   -0.273842  2530794      2543773   \n",
       "5   20170907000118  away  44.94  24.00  1.8   -1.483355  2543494      2543773   \n",
       "6   20170907000118  away  45.89  16.64  0.2    2.488665  2543637      2543773   \n",
       "7   20170907000118  away  46.63  18.73  1.3    1.571494  2543851      2543773   \n",
       "8   20170907000118  away  63.37  26.90  2.8    4.106934  2550257      2543773   \n",
       "9   20170907000118  away  46.65  38.83  5.1    0.189194  2552488      2543773   \n",
       "10  20170907000118  away  45.85  28.90  0.1    1.643053  2556369      2543773   \n",
       "11  20170907000118  home  44.18  17.56  5.5    1.817760     2649      2543773   \n",
       "12  20170907000118  home  45.22  33.21  1.9    0.626573   497240      2543773   \n",
       "13  20170907000118  home  44.57  32.41  3.2    0.746303  2495131      2543773   \n",
       "14  20170907000118  home  44.10  25.12  1.9    0.323759  2495232      2543773   \n",
       "15  20170907000118  home  40.24  29.49  0.0   -1.206721  2504211      2543773   \n",
       "16  20170907000118  home  43.53  36.91  5.9    0.263370  2530515      2543773   \n",
       "17  20170907000118  home  45.30  19.19  5.1    1.719498  2543498      2543773   \n",
       "18  20170907000118  home  41.25  30.53  3.8    1.147379  2543773      2543773   \n",
       "19  20170907000118  home  45.40  31.88  1.7    1.524022  2552563      2543773   \n",
       "20  20170907000118  home  45.42  29.12  2.2    1.082977  2553632      2543773   \n",
       "21  20170907000118  home  45.42  28.47  2.4    1.320691  2555281      2543773   \n",
       "\n",
       "    Yards  IsRusher PlayDirection  IsOnOffense  \n",
       "0       8     False          left        False  \n",
       "1       8     False          left        False  \n",
       "2       8     False          left        False  \n",
       "3       8     False          left        False  \n",
       "4       8     False          left        False  \n",
       "5       8     False          left        False  \n",
       "6       8     False          left        False  \n",
       "7       8     False          left        False  \n",
       "8       8     False          left        False  \n",
       "9       8     False          left        False  \n",
       "10      8     False          left        False  \n",
       "11      8     False          left         True  \n",
       "12      8     False          left         True  \n",
       "13      8     False          left         True  \n",
       "14      8     False          left         True  \n",
       "15      8     False          left         True  \n",
       "16      8     False          left         True  \n",
       "17      8     False          left         True  \n",
       "18      8      True          left         True  \n",
       "19      8     False          left         True  \n",
       "20      8     False          left         True  \n",
       "21      8     False          left         True  "
      ]
     },
     "execution_count": 50,
     "metadata": {},
     "output_type": "execute_result"
    }
   ],
   "source": [
    "play_id = 20170907000118\n",
    "\n",
    "test = test.query('PlayId == @play_id')\n",
    "test"
   ]
  },
  {
   "cell_type": "code",
   "execution_count": 182,
   "metadata": {},
   "outputs": [
    {
     "data": {
      "text/plain": [
       "(11, 10, 10)"
      ]
     },
     "execution_count": 182,
     "metadata": {},
     "output_type": "execute_result"
    }
   ],
   "source": [
    "# Test create_play_tensor function\n",
    "create_play_tensor(test).shape"
   ]
  },
  {
   "cell_type": "markdown",
   "metadata": {},
   "source": [
    "This looks good, we get the expected shape after creating new features from the data for a specific play."
   ]
  },
  {
   "cell_type": "markdown",
   "metadata": {},
   "source": [
    "# Model architecture"
   ]
  },
  {
   "cell_type": "markdown",
   "metadata": {},
   "source": [
    "<img src=\"images/model_structure.png\">"
   ]
  },
  {
   "cell_type": "markdown",
   "metadata": {},
   "source": [
    "**TODO: Add description of the model.**\n",
    "<br>\n",
    "<br>"
   ]
  },
  {
   "cell_type": "code",
   "execution_count": null,
   "metadata": {},
   "outputs": [],
   "source": [
    "input_dense_players = Input(shape=(11,10,10), name = \"numerical_players_feature_input\")\n",
    "\n",
    "x = Conv2D(128, kernel_size=(1,1), strides=(1,1), activation=None)(input_dense_players)\n",
    "\n",
    "x = Activation('relu')(x)\n",
    "\n",
    "x = Conv2D(160, kernel_size=(1,1), strides=(1,1), activation=None)(x)\n",
    "\n",
    "x = Activation('relu')(x)\n",
    "\n",
    "x = Conv2D(128, kernel_size=(1,1), strides=(1,1), activation=None)(x)\n",
    "\n",
    "x = Activation('relu')(x)\n",
    "\n",
    "xmax = MaxPooling2D(pool_size=(1,10))(x)\n",
    "\n",
    "xmax = Lambda(lambda x1 : x1*0.3)(xmax)\n",
    "\n",
    "xavg = AvgPool2D(pool_size=(1,10))(x)\n",
    "\n",
    "xavg = Lambda(lambda x1 : x1*0.7)(xavg)\n",
    "\n",
    "x = Add()([xmax, xavg])\n",
    "\n",
    "x = Lambda(lambda y : K.squeeze(y,2))(x)\n",
    "\n",
    "x = Conv1D(128, kernel_size=1, strides=1, activation=None)(x)\n",
    "\n",
    "x = Activation('relu')(x)\n",
    "\n",
    "x = BatchNormalization()(x)\n",
    "\n",
    "x = Conv1D(160, kernel_size=1, strides=1, activation=None)(x)\n",
    "\n",
    "x = Activation('relu')(x)\n",
    "\n",
    "x = BatchNormalization()(x)\n",
    "\n",
    "x = Conv1D(96, kernel_size=1, strides=1, activation=None)(x)\n",
    "\n",
    "x = Activation('relu')(x)\n",
    "\n",
    "x = BatchNormalization()(x)\n",
    "\n",
    "xmax = MaxPooling1D(pool_size=11)(x)\n",
    "\n",
    "xmax = Lambda(lambda x1 : x1*0.3)(xmax)\n",
    "\n",
    "xavg = AvgPool1D(pool_size=11)(x)\n",
    "\n",
    "xavg = Lambda(lambda x1 : x1*0.7)(xavg)\n",
    "\n",
    "x = Add()([xmax, xavg])\n",
    "\n",
    "x = Lambda(lambda y : K.squeeze(y,1))(x)\n",
    "\n",
    "x = Dense(96)(x)\n",
    "\n",
    "x = Activation('relu')(x)\n",
    "\n",
    "x = BatchNormalization()(x)\n",
    "\n",
    "x = Dense(256, activation=\"relu\")(x)\n",
    "\n",
    "x = Activation('relu')(x)\n",
    "\n",
    "x = BatchNormalization()(x)\n",
    "\n",
    "out_reg = Dense(1, activation='relu', name = \"main_op_2\")(x)\n",
    "\n",
    "out_soft = Dense(199, activation='softmax', name = \"main_op_1\")(x)\n",
    "\n",
    "model = Model(inputs = [input_dense_players], outputs = [out_soft, out_reg])"
   ]
  },
  {
   "cell_type": "markdown",
   "metadata": {},
   "source": [
    "# TODO  - create a generator to convert data on the fly and train the model"
   ]
  },
  {
   "cell_type": "markdown",
   "metadata": {},
   "source": [
    "# References"
   ]
  },
  {
   "cell_type": "markdown",
   "metadata": {},
   "source": [
    "- [1] https://www.kaggle.com/c/nfl-big-data-bowl-2020/discussion/119400\n",
    "- [2] https://www.kaggle.com/statsbymichaellopez/nfl-tracking-wrangling-voronoi-and-sonars\n",
    "- [3] https://www.kaggle.com/robikscube/nfl-big-data-bowl-plotting-player-position"
   ]
  },
  {
   "cell_type": "code",
   "execution_count": null,
   "metadata": {},
   "outputs": [],
   "source": []
  }
 ],
 "metadata": {
  "kernelspec": {
   "display_name": "Python 3",
   "language": "python",
   "name": "python3"
  },
  "language_info": {
   "codemirror_mode": {
    "name": "ipython",
    "version": 3
   },
   "file_extension": ".py",
   "mimetype": "text/x-python",
   "name": "python",
   "nbconvert_exporter": "python",
   "pygments_lexer": "ipython3",
   "version": "3.7.3"
  }
 },
 "nbformat": 4,
 "nbformat_minor": 4
}
