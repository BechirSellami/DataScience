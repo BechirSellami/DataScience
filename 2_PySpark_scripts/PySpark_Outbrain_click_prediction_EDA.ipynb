{
 "cells": [
  {
   "cell_type": "markdown",
   "metadata": {},
   "source": [
    "# Kaggle competition - Outbrain click prediction \n",
    "\n",
    "In this notebook, we'll look at some of the datasets that were provided by Outbrain for its Kaggle competition.\n",
    "\n",
    "The dataset for this challenge contains a sample of users’ page views and clicks, as observed on multiple publisher sites in the United States between 14-June-2016 and 28-June-2016. Each viewed page or clicked recommendation is further accompanied by some semantic attributes of those documents. For full details, see data specifications below.\n",
    "\n",
    "The dataset contains numerous sets of content recommendations served to a specific user in a specific context. Each context (i.e. a set of recommendations) is given a display_id. In each such set, the user has clicked on at least one recommendation. The identities of the clicked recommendations in the test set are not revealed. Your task is to rank the recommendations in each group by decreasing predicted likelihood of being clicked."
   ]
  },
  {
   "cell_type": "code",
   "execution_count": 1,
   "metadata": {
    "collapsed": false
   },
   "outputs": [
    {
     "name": "stderr",
     "output_type": "stream",
     "text": [
      "/usr/local/bin/miniconda/lib/python2.7/site-packages/matplotlib/font_manager.py:273: UserWarning: Matplotlib is building the font cache using fc-list. This may take a moment.\n",
      "  warnings.warn('Matplotlib is building the font cache using fc-list. This may take a moment.')\n"
     ]
    }
   ],
   "source": [
    "import numpy as np\n",
    "import pandas as pd\n",
    "import matplotlib.pyplot as plt\n",
    "from pyspark.sql.types import *\n",
    "import pyspark.sql.functions as F"
   ]
  },
  {
   "cell_type": "code",
   "execution_count": 2,
   "metadata": {
    "collapsed": true
   },
   "outputs": [],
   "source": [
    "sqlC=SQLContext(sc)"
   ]
  },
  {
   "cell_type": "code",
   "execution_count": 3,
   "metadata": {
    "collapsed": false
   },
   "outputs": [],
   "source": [
    "# Data is read from Google Cloud Storage, a distributed filesystem like HDFS.\n",
    "# Let's Load and join the following datasets: clicks_train, events and promoted_content. \n",
    "# load clicks_train dataset\n",
    "clicks_train_schema = StructType(\n",
    "                    [   StructField(\"display_id\", IntegerType(), True),\n",
    "                        StructField(\"ad_id\", IntegerType(), True),\n",
    "                        StructField(\"clicked\", IntegerType(), True)]\n",
    "                    )\n",
    "clicks_train_df = sqlC.read.schema(clicks_train_schema).options(header='true', inferschema='false', nullValue='\\\\N') \\\n",
    "                .csv(\"gs://kagglecomp_bucket/clicks_train.csv\")\n"
   ]
  },
  {
   "cell_type": "code",
   "execution_count": 4,
   "metadata": {
    "collapsed": false
   },
   "outputs": [],
   "source": [
    "# load \"events\" dataset\n",
    "events_schema = StructType(\n",
    "                    [StructField(\"display_id\", IntegerType(), True),\n",
    "                    StructField(\"uuid\", StringType(), True),\n",
    "                    StructField(\"document_id\", IntegerType(), True),\n",
    "                    StructField(\"timestamp\", IntegerType(), True),\n",
    "                    StructField(\"platform\", IntegerType(), True),\n",
    "                    StructField(\"geo_location\", StringType(), True)]\n",
    "                    )\n",
    "events_df = sqlC.read.schema(events_schema).options(header='true', inferschema='false', nullValue='\\\\N') \\\n",
    "                .csv(\"gs://kagglecomp_bucket/events.csv\")"
   ]
  },
  {
   "cell_type": "code",
   "execution_count": 5,
   "metadata": {
    "collapsed": false
   },
   "outputs": [],
   "source": [
    "events_df = events_df.sort('display_id')"
   ]
  },
  {
   "cell_type": "code",
   "execution_count": 10,
   "metadata": {
    "collapsed": false
   },
   "outputs": [],
   "source": [
    "promoted_content_schema = StructType(\n",
    "                    [StructField(\"ad_id\", IntegerType(), True),\n",
    "                    StructField(\"document_id\", IntegerType(), True),\n",
    "                    StructField(\"campaign_id\", IntegerType(), True),\n",
    "                    StructField(\"advertiser_id\", IntegerType(), True)]\n",
    "                    )\n",
    "promoted_content_df = sqlC.read.schema(promoted_content_schema).options(header='true', inferschema='false', nullValue='\\\\N') \\\n",
    "                        .csv(\"gs://kagglecomp_bucket/promoted_content.csv\")"
   ]
  },
  {
   "cell_type": "code",
   "execution_count": 11,
   "metadata": {
    "collapsed": true
   },
   "outputs": [],
   "source": [
    "promoted_content_df = promoted_content_df.sort('document_id')"
   ]
  },
  {
   "cell_type": "markdown",
   "metadata": {},
   "source": [
    "# Joining clicks_train_df, events_df and promoted_content_df"
   ]
  },
  {
   "cell_type": "code",
   "execution_count": 12,
   "metadata": {
    "collapsed": true
   },
   "outputs": [],
   "source": [
    "# Add a dummy column to the datasets, this will be useful to identify records source after joining these\n",
    "promoted_content_df = promoted_content_df.withColumn('dummyPromotedContent', F.lit(1))\n",
    "clicks_train_df = clicks_train_df.withColumn('dummyClicksTrain', F.lit(1))\n",
    "events_df = events_df.withColumn('dummyEvents', F.lit(1))"
   ]
  },
  {
   "cell_type": "code",
   "execution_count": 9,
   "metadata": {
    "collapsed": false
   },
   "outputs": [
    {
     "name": "stdout",
     "output_type": "stream",
     "text": [
      "+----------+------+-------+----------------+\n",
      "|display_id| ad_id|clicked|dummyClicksTrain|\n",
      "+----------+------+-------+----------------+\n",
      "|         1| 42337|      0|               1|\n",
      "|         1|139684|      0|               1|\n",
      "|         1|144739|      1|               1|\n",
      "|         1|156824|      0|               1|\n",
      "|         1|279295|      0|               1|\n",
      "+----------+------+-------+----------------+\n",
      "only showing top 5 rows\n",
      "\n"
     ]
    }
   ],
   "source": [
    "clicks_train_df.show(5)"
   ]
  },
  {
   "cell_type": "code",
   "execution_count": 10,
   "metadata": {
    "collapsed": false
   },
   "outputs": [
    {
     "name": "stdout",
     "output_type": "stream",
     "text": [
      "+----------+--------------+-----------+---------+--------+------------+-----------+\n",
      "|display_id|          uuid|document_id|timestamp|platform|geo_location|dummyEvents|\n",
      "+----------+--------------+-----------+---------+--------+------------+-----------+\n",
      "|         1|cb8c55702adb93|     379743|       61|       3|   US>SC>519|          1|\n",
      "|         2|79a85fa78311b9|    1794259|       81|       2|   US>CA>807|          1|\n",
      "|         3|822932ce3d8757|    1179111|      182|       2|   US>MI>505|          1|\n",
      "|         4|85281d0a49f7ac|    1777797|      234|       2|   US>WV>564|          1|\n",
      "|         5|8d0daef4bf5b56|     252458|      338|       2|       SG>00|          1|\n",
      "+----------+--------------+-----------+---------+--------+------------+-----------+\n",
      "only showing top 5 rows\n",
      "\n"
     ]
    }
   ],
   "source": [
    "events_df.show(5)"
   ]
  },
  {
   "cell_type": "code",
   "execution_count": 11,
   "metadata": {
    "collapsed": false
   },
   "outputs": [
    {
     "name": "stdout",
     "output_type": "stream",
     "text": [
      "+-----+-----------+-----------+-------------+--------------------+\n",
      "|ad_id|document_id|campaign_id|advertiser_id|dummyPromotedContent|\n",
      "+-----+-----------+-----------+-------------+--------------------+\n",
      "|    1|       6614|          1|            7|                   1|\n",
      "|    2|     471467|          2|            7|                   1|\n",
      "|    3|       7692|          3|            7|                   1|\n",
      "|    4|     471471|          2|            7|                   1|\n",
      "|    5|     471472|          2|            7|                   1|\n",
      "+-----+-----------+-----------+-------------+--------------------+\n",
      "only showing top 5 rows\n",
      "\n"
     ]
    }
   ],
   "source": [
    "promoted_content_df.show(5)"
   ]
  },
  {
   "cell_type": "code",
   "execution_count": 13,
   "metadata": {
    "collapsed": true
   },
   "outputs": [],
   "source": [
    "# We have different document_ids in promoted_content_df compared to events_df dataset. \n",
    "# Let's remove document_id from promoted_content_df as we won't need it now.\n",
    "promoted_content_df = promoted_content_df.select('ad_id', 'campaign_id', 'advertiser_id', 'dummyPromotedContent')\n"
   ]
  },
  {
   "cell_type": "code",
   "execution_count": 13,
   "metadata": {
    "collapsed": false
   },
   "outputs": [
    {
     "name": "stdout",
     "output_type": "stream",
     "text": [
      "+------+-----------+-------------+--------------------+\n",
      "| ad_id|campaign_id|advertiser_id|dummyPromotedContent|\n",
      "+------+-----------+-------------+--------------------+\n",
      "|371749|       6051|         1531|                   1|\n",
      "|371657|       6050|         1531|                   1|\n",
      "|278853|       1960|           45|                   1|\n",
      "|470614|      16993|         1310|                   1|\n",
      "|500762|      16993|         1310|                   1|\n",
      "+------+-----------+-------------+--------------------+\n",
      "only showing top 5 rows\n",
      "\n"
     ]
    }
   ],
   "source": [
    "promoted_content_df.show(5)"
   ]
  },
  {
   "cell_type": "code",
   "execution_count": 14,
   "metadata": {
    "collapsed": true
   },
   "outputs": [],
   "source": [
    "# Join clicks_train_df and events_df\n",
    "df_join = clicks_train_df.alias('clicksTrain').join(events_df.alias('events'), \\\n",
    "                                                                    on=['display_id'], how='inner')"
   ]
  },
  {
   "cell_type": "code",
   "execution_count": 28,
   "metadata": {
    "collapsed": false,
    "scrolled": true
   },
   "outputs": [
    {
     "name": "stdout",
     "output_type": "stream",
     "text": [
      "+----------+------+-------+----------------+--------------+-----------+---------+--------+------------+-----------+\n",
      "|display_id| ad_id|clicked|dummyClicksTrain|          uuid|document_id|timestamp|platform|geo_location|dummyEvents|\n",
      "+----------+------+-------+----------------+--------------+-----------+---------+--------+------------+-----------+\n",
      "|       148| 89351|      1|               1|9adce6a5363308|    1205772|    11202|       2|   US>LA>612|          1|\n",
      "|       148|152140|      0|               1|9adce6a5363308|    1205772|    11202|       2|   US>LA>612|          1|\n",
      "|       148|152656|      0|               1|9adce6a5363308|    1205772|    11202|       2|   US>LA>612|          1|\n",
      "|       148|326768|      0|               1|9adce6a5363308|    1205772|    11202|       2|   US>LA>612|          1|\n",
      "|       463| 28270|      0|               1|85d999a1dd5483|    1787133|    34492|       1|   US>SD>764|          1|\n",
      "|       463| 38813|      1|               1|85d999a1dd5483|    1787133|    34492|       1|   US>SD>764|          1|\n",
      "|       463|104911|      0|               1|85d999a1dd5483|    1787133|    34492|       1|   US>SD>764|          1|\n",
      "|       463|170148|      0|               1|85d999a1dd5483|    1787133|    34492|       1|   US>SD>764|          1|\n",
      "|       463|187292|      0|               1|85d999a1dd5483|    1787133|    34492|       1|   US>SD>764|          1|\n",
      "|       463|221740|      0|               1|85d999a1dd5483|    1787133|    34492|       1|   US>SD>764|          1|\n",
      "|       463|221782|      0|               1|85d999a1dd5483|    1787133|    34492|       1|   US>SD>764|          1|\n",
      "|       463|240837|      0|               1|85d999a1dd5483|    1787133|    34492|       1|   US>SD>764|          1|\n",
      "|       463|327054|      0|               1|85d999a1dd5483|    1787133|    34492|       1|   US>SD>764|          1|\n",
      "|       463|327114|      0|               1|85d999a1dd5483|    1787133|    34492|       1|   US>SD>764|          1|\n",
      "|       471| 22811|      0|               1|277636b1739ae4|     814331|    34833|       2|   US>DE>504|          1|\n",
      "|       471|164323|      0|               1|277636b1739ae4|     814331|    34833|       2|   US>DE>504|          1|\n",
      "|       471|173384|      0|               1|277636b1739ae4|     814331|    34833|       2|   US>DE>504|          1|\n",
      "|       471|198155|      1|               1|277636b1739ae4|     814331|    34833|       2|   US>DE>504|          1|\n",
      "|       496| 44460|      0|               1|1ebc05d117ee8e|     986872|    36452|       2|       CA>QC|          1|\n",
      "|       496|124745|      0|               1|1ebc05d117ee8e|     986872|    36452|       2|       CA>QC|          1|\n",
      "+----------+------+-------+----------------+--------------+-----------+---------+--------+------------+-----------+\n",
      "only showing top 20 rows\n",
      "\n"
     ]
    }
   ],
   "source": [
    "df_join.show()"
   ]
  },
  {
   "cell_type": "code",
   "execution_count": 15,
   "metadata": {
    "collapsed": true
   },
   "outputs": [],
   "source": [
    "# join df_join with promoted content\n",
    "df_join = df_join.alias('df_join').join(promoted_content_df.alias('promotedContent'), \\\n",
    "                                                                    on=['ad_id'], how='inner')"
   ]
  },
  {
   "cell_type": "code",
   "execution_count": 16,
   "metadata": {
    "collapsed": false
   },
   "outputs": [
    {
     "data": {
      "text/plain": [
       "['ad_id',\n",
       " 'display_id',\n",
       " 'clicked',\n",
       " 'dummyClicksTrain',\n",
       " 'uuid',\n",
       " 'document_id',\n",
       " 'timestamp',\n",
       " 'platform',\n",
       " 'geo_location',\n",
       " 'dummyEvents',\n",
       " 'campaign_id',\n",
       " 'advertiser_id',\n",
       " 'dummyPromotedContent']"
      ]
     },
     "execution_count": 16,
     "metadata": {},
     "output_type": "execute_result"
    }
   ],
   "source": [
    "df_join.columns"
   ]
  },
  {
   "cell_type": "markdown",
   "metadata": {},
   "source": [
    "# Distribution of campaign success rate"
   ]
  },
  {
   "cell_type": "code",
   "execution_count": 17,
   "metadata": {
    "collapsed": true
   },
   "outputs": [],
   "source": [
    "# Keep only relevant columns to calculate campaigns click rate\n",
    "df_join_2 = df_join.select('ad_id',\n",
    " 'display_id',\n",
    " 'clicked',\n",
    " 'uuid',\n",
    " 'document_id',\n",
    " 'campaign_id',\n",
    " 'advertiser_id'\n",
    " )"
   ]
  },
  {
   "cell_type": "code",
   "execution_count": 18,
   "metadata": {
    "collapsed": false
   },
   "outputs": [],
   "source": [
    "df_join_2 = df_join_2.sort('display_id')"
   ]
  },
  {
   "cell_type": "code",
   "execution_count": 19,
   "metadata": {
    "collapsed": true
   },
   "outputs": [],
   "source": [
    "# Count number of ads by campaign\n",
    "ads_by_campaign_df = df_join_2.groupby('campaign_id').count()"
   ]
  },
  {
   "cell_type": "code",
   "execution_count": 20,
   "metadata": {
    "collapsed": true
   },
   "outputs": [],
   "source": [
    "ads_by_campaign_df = ads_by_campaign_df.selectExpr(\"campaign_id as campaign_id\", \"count as nbr_ads\")"
   ]
  },
  {
   "cell_type": "code",
   "execution_count": 22,
   "metadata": {
    "collapsed": false
   },
   "outputs": [
    {
     "name": "stdout",
     "output_type": "stream",
     "text": [
      "+-----------+-------+\n",
      "|campaign_id|nbr_ads|\n",
      "+-----------+-------+\n",
      "|      25591|    194|\n",
      "|        471|   4438|\n",
      "|      11858|  40805|\n",
      "|      18654|  16275|\n",
      "|       6658|   5836|\n",
      "+-----------+-------+\n",
      "only showing top 5 rows\n",
      "\n"
     ]
    }
   ],
   "source": [
    "ads_by_campaign_df.show(5)"
   ]
  },
  {
   "cell_type": "code",
   "execution_count": 21,
   "metadata": {
    "collapsed": true
   },
   "outputs": [],
   "source": [
    "# Count clicked ads by campaign\n",
    "clicked_ads_by_campaign_df = df_join_2.filter('clicked = 1').groupBy('campaign_id').count()"
   ]
  },
  {
   "cell_type": "code",
   "execution_count": 30,
   "metadata": {
    "collapsed": false
   },
   "outputs": [],
   "source": [
    "clicked_ads_by_campaign_df = clicked_ads_by_campaign_df.selectExpr(\"campaign_id as campaign_id\", \"count as nbr_clicked_ads\")\n"
   ]
  },
  {
   "cell_type": "code",
   "execution_count": 40,
   "metadata": {
    "collapsed": false
   },
   "outputs": [
    {
     "name": "stdout",
     "output_type": "stream",
     "text": [
      "+-----------+---------------+-------------------------+\n",
      "|campaign_id|nbr_clicked_ads|dummyClickedAdsByCampaign|\n",
      "+-----------+---------------+-------------------------+\n",
      "|      28124|             27|                        1|\n",
      "|      11858|          10879|                        1|\n",
      "|      25591|             17|                        1|\n",
      "|      29054|            183|                        1|\n",
      "|      18654|           2533|                        1|\n",
      "+-----------+---------------+-------------------------+\n",
      "only showing top 5 rows\n",
      "\n"
     ]
    }
   ],
   "source": [
    "clicked_ads_by_campaign_df.show(5)"
   ]
  },
  {
   "cell_type": "code",
   "execution_count": 19,
   "metadata": {
    "collapsed": false
   },
   "outputs": [
    {
     "data": {
      "text/plain": [
       "32676"
      ]
     },
     "execution_count": 19,
     "metadata": {},
     "output_type": "execute_result"
    }
   ],
   "source": [
    "# 32676 records expected \n",
    "ads_by_campaign_df.count()"
   ]
  },
  {
   "cell_type": "code",
   "execution_count": 28,
   "metadata": {
    "collapsed": false
   },
   "outputs": [
    {
     "data": {
      "text/plain": [
       "28285"
      ]
     },
     "execution_count": 28,
     "metadata": {},
     "output_type": "execute_result"
    }
   ],
   "source": [
    "# 28285 records expected \n",
    "clicked_ads_by_campaign_df.count()"
   ]
  },
  {
   "cell_type": "code",
   "execution_count": 36,
   "metadata": {
    "collapsed": true
   },
   "outputs": [],
   "source": [
    "# Add dummy columns and join ads_by_campaign_df and clicked_ads_by_campaign_df\n",
    "ads_by_campaign_df = ads_by_campaign_df.withColumn('dummyAdsByCampaign', F.lit(1))\n",
    "clicked_ads_by_campaign_df = clicked_ads_by_campaign_df.withColumn('dummyClickedAdsByCampaign', F.lit(1))"
   ]
  },
  {
   "cell_type": "code",
   "execution_count": 37,
   "metadata": {
    "collapsed": true
   },
   "outputs": [],
   "source": [
    "Join_ads_clicked_ads_by_campaign = ads_by_campaign_df.alias('ads_by_campaign').join(clicked_ads_by_campaign_df.alias('clicked_ads_by_campaign'), \\\n",
    "                                                                    on=['campaign_id'], how='left')"
   ]
  },
  {
   "cell_type": "code",
   "execution_count": 39,
   "metadata": {
    "collapsed": false
   },
   "outputs": [],
   "source": [
    "# Replace null values by zero\n",
    "Join_ads_clicked_ads_by_campaign = Join_ads_clicked_ads_by_campaign.na.fill({'nbr_clicked_ads': 0})"
   ]
  },
  {
   "cell_type": "code",
   "execution_count": 26,
   "metadata": {
    "collapsed": false,
    "scrolled": true
   },
   "outputs": [
    {
     "name": "stdout",
     "output_type": "stream",
     "text": [
      "+-----------+-------+------------------+---------------+-------------------------+\n",
      "|campaign_id|nbr_ads|dummyAdsByCampaign|nbr_clicked_ads|dummyClickedAdsByCampaign|\n",
      "+-----------+-------+------------------+---------------+-------------------------+\n",
      "|        148|    609|                 1|             21|                        1|\n",
      "|        463|    636|                 1|            176|                        1|\n",
      "|        471|   4438|                 1|            779|                        1|\n",
      "|        496|   1941|                 1|            314|                        1|\n",
      "|        833|    290|                 1|             13|                        1|\n",
      "|       1088|     33|                 1|              3|                        1|\n",
      "|       1238|   5084|                 1|           1223|                        1|\n",
      "|       1342|    149|                 1|             17|                        1|\n",
      "|       1580|   3467|                 1|            503|                        1|\n",
      "|       1591|     50|                 1|             15|                        1|\n",
      "|       1645|      4|                 1|              0|                     null|\n",
      "|       1829|     96|                 1|             11|                        1|\n",
      "|       1959|     24|                 1|              1|                        1|\n",
      "|       2122|    248|                 1|             41|                        1|\n",
      "|       2142|   1157|                 1|            294|                        1|\n",
      "|       2366|      5|                 1|              1|                        1|\n",
      "|       2659|    109|                 1|             12|                        1|\n",
      "|       2866|     66|                 1|             14|                        1|\n",
      "|       3175|     18|                 1|             10|                        1|\n",
      "|       3749|   1170|                 1|            167|                        1|\n",
      "+-----------+-------+------------------+---------------+-------------------------+\n",
      "only showing top 20 rows\n",
      "\n",
      "CPU times: user 28 ms, sys: 12 ms, total: 40 ms\n",
      "Wall time: 2min 12s\n"
     ]
    }
   ],
   "source": [
    "%time Join_ads_clicked_ads_by_campaign.show()"
   ]
  },
  {
   "cell_type": "code",
   "execution_count": 41,
   "metadata": {
    "collapsed": false
   },
   "outputs": [],
   "source": [
    "# For each campaign_id calculate the rate of clicks as the ratio of clicked ads and the number of displayed ads\n",
    "Join_ads_clicked_ads_by_campaign.registerTempTable(\"Join_ads_clicked_ads_by_campaign\")"
   ]
  },
  {
   "cell_type": "code",
   "execution_count": 42,
   "metadata": {
    "collapsed": true
   },
   "outputs": [],
   "source": [
    "Join_ads_clicked_ads_by_campaign = sqlC.sql('SELECT *, nbr_clicked_ads/NULLIF(nbr_ads,0) AS campaign_click_rate FROM Join_ads_clicked_ads_by_campaign')"
   ]
  },
  {
   "cell_type": "code",
   "execution_count": 43,
   "metadata": {
    "collapsed": false
   },
   "outputs": [
    {
     "data": {
      "text/plain": [
       "['campaign_id',\n",
       " 'nbr_ads',\n",
       " 'dummyAdsByCampaign',\n",
       " 'nbr_clicked_ads',\n",
       " 'dummyClickedAdsByCampaign',\n",
       " 'campaign_click_rate']"
      ]
     },
     "execution_count": 43,
     "metadata": {},
     "output_type": "execute_result"
    }
   ],
   "source": [
    "Join_ads_clicked_ads_by_campaign.columns"
   ]
  },
  {
   "cell_type": "code",
   "execution_count": 44,
   "metadata": {
    "collapsed": false
   },
   "outputs": [
    {
     "name": "stdout",
     "output_type": "stream",
     "text": [
      "+-----------+-------+------------------+---------------+-------------------------+--------------------+\n",
      "|campaign_id|nbr_ads|dummyAdsByCampaign|nbr_clicked_ads|dummyClickedAdsByCampaign| campaign_click_rate|\n",
      "+-----------+-------+------------------+---------------+-------------------------+--------------------+\n",
      "|        148|    609|                 1|             21|                        1|0.034482758620689655|\n",
      "|        463|    636|                 1|            176|                        1| 0.27672955974842767|\n",
      "|        471|   4438|                 1|            779|                        1| 0.17552951780081116|\n",
      "|        496|   1941|                 1|            314|                        1| 0.16177228232869656|\n",
      "|        833|    290|                 1|             13|                        1| 0.04482758620689655|\n",
      "|       1088|     33|                 1|              3|                        1| 0.09090909090909091|\n",
      "|       1238|   5084|                 1|           1223|                        1|   0.240558615263572|\n",
      "|       1342|    149|                 1|             17|                        1| 0.11409395973154363|\n",
      "|       1580|   3467|                 1|            503|                        1| 0.14508220363426594|\n",
      "|       1591|     50|                 1|             15|                        1|                 0.3|\n",
      "|       1645|      4|                 1|              0|                     null|                 0.0|\n",
      "|       1829|     96|                 1|             11|                        1| 0.11458333333333333|\n",
      "|       1959|     24|                 1|              1|                        1|0.041666666666666664|\n",
      "|       2122|    248|                 1|             41|                        1| 0.16532258064516128|\n",
      "|       2142|   1157|                 1|            294|                        1|  0.2541054451166811|\n",
      "|       2366|      5|                 1|              1|                        1|                 0.2|\n",
      "|       2659|    109|                 1|             12|                        1| 0.11009174311926606|\n",
      "|       2866|     66|                 1|             14|                        1| 0.21212121212121213|\n",
      "|       3175|     18|                 1|             10|                        1|  0.5555555555555556|\n",
      "|       3749|   1170|                 1|            167|                        1| 0.14273504273504273|\n",
      "+-----------+-------+------------------+---------------+-------------------------+--------------------+\n",
      "only showing top 20 rows\n",
      "\n",
      "CPU times: user 36 ms, sys: 12 ms, total: 48 ms\n",
      "Wall time: 2min 37s\n"
     ]
    }
   ],
   "source": [
    "%time Join_ads_clicked_ads_by_campaign.show()"
   ]
  },
  {
   "cell_type": "code",
   "execution_count": 45,
   "metadata": {
    "collapsed": true
   },
   "outputs": [],
   "source": [
    "# Convert Join_ads_clicked_ads_by_campaign to Pandas dataframe for plotting\n",
    "Join_ads_clicked_ads_by_campaign_pd = Join_ads_clicked_ads_by_campaign.select('campaign_click_rate').toPandas()"
   ]
  },
  {
   "cell_type": "code",
   "execution_count": 48,
   "metadata": {
    "collapsed": false
   },
   "outputs": [
    {
     "data": {
      "image/png": "[encoded data removed]",
      "text/plain": [
       "<matplotlib.figure.Figure at 0x7f3d1d3caf50>"
      ]
     },
     "metadata": {},
     "output_type": "display_data"
    }
   ],
   "source": [
    "Join_ads_clicked_ads_by_campaign_pd.plot.density()\n",
    "plt.show()"
   ]
  },
  {
   "cell_type": "code",
   "execution_count": 49,
   "metadata": {
    "collapsed": true
   },
   "outputs": [],
   "source": [
    "clicked_ads_by_campaign_dist_df_pd = Join_ads_clicked_ads_by_campaign.select('nbr_clicked_ads').toPandas()"
   ]
  },
  {
   "cell_type": "code",
   "execution_count": 55,
   "metadata": {
    "collapsed": false
   },
   "outputs": [],
   "source": [
    "clicked_ads_by_campaign_dist_df_pd = clicked_ads_by_campaign_dist_df_pd['nbr_clicked_ads'].value_counts()"
   ]
  },
  {
   "cell_type": "code",
   "execution_count": 68,
   "metadata": {
    "collapsed": false
   },
   "outputs": [
    {
     "data": {
      "text/plain": [
       "0    4391\n",
       "1    2273\n",
       "2    1449\n",
       "3    1128\n",
       "4     903\n",
       "Name: nbr_clicked_ads, dtype: int64"
      ]
     },
     "execution_count": 68,
     "metadata": {},
     "output_type": "execute_result"
    }
   ],
   "source": [
    "clicked_ads_by_campaign_dist_df_pd.head()"
   ]
  },
  {
   "cell_type": "code",
   "execution_count": 65,
   "metadata": {
    "collapsed": true
   },
   "outputs": [],
   "source": [
    "total_nbr_campaigns = len(Join_ads_clicked_ads_by_campaign_pd.index)"
   ]
  },
  {
   "cell_type": "code",
   "execution_count": 66,
   "metadata": {
    "collapsed": false
   },
   "outputs": [
    {
     "data": {
      "text/plain": [
       "32676"
      ]
     },
     "execution_count": 66,
     "metadata": {},
     "output_type": "execute_result"
    }
   ],
   "source": [
    "total_nbr_campaigns"
   ]
  },
  {
   "cell_type": "code",
   "execution_count": 73,
   "metadata": {
    "collapsed": false
   },
   "outputs": [
    {
     "name": "stdout",
     "output_type": "stream",
     "text": [
      "Percentage of campaigns with less than 2 clicked ads: 20.39%\n",
      "Percentage of campaigns with less than 5 clicked ads: 31.04%\n",
      "Percentage of campaigns with less than 10 clicked ads: 40.45%\n",
      "Percentage of campaigns with less than 25 clicked ads: 53.61%\n",
      "Percentage of campaigns with less than 50 clicked ads: 62.35%\n",
      "Percentage of campaigns with less than 100 clicked ads: 70.48%\n",
      "Percentage of campaigns with less than 200 clicked ads: 77.95%\n",
      "Percentage of campaigns with less than 500 clicked ads: 86.06%\n",
      "Percentage of campaigns with less than 1000 clicked ads: 90.81%\n",
      "Percentage of campaigns with less than 1500 clicked ads: 93.06%\n",
      "Percentage of campaigns with less than 2000 clicked ads: 94.34%\n",
      "Percentage of campaigns with less than 3000 clicked ads: 96.0%\n"
     ]
    }
   ],
   "source": [
    "for i in [2, 5, 10, 25, 50, 100, 200, 500, 1000, 1500, 2000, 3000]:\n",
    "    Nbr_campaign_with_i_clicked_ads = clicked_ads_by_campaign_dist_df_pd[clicked_ads_by_campaign_dist_df_pd.index < i].sum()\n",
    "    Pct = round(Nbr_campaign_with_i_clicked_ads/float(total_nbr_campaigns) * 100, 2)\n",
    "    print('Percentage of campaigns with less than {} clicked ads: {}%'.format(i, Pct))"
   ]
  }
 ],
 "metadata": {
  "anaconda-cloud": {},
  "kernelspec": {
   "display_name": "PySpark",
   "language": "python",
   "name": "pyspark"
  },
  "language_info": {
   "codemirror_mode": {
    "name": "ipython",
    "version": 2
   },
   "file_extension": ".py",
   "mimetype": "text/x-python",
   "name": "python",
   "nbconvert_exporter": "python",
   "pygments_lexer": "ipython2",
   "version": "2.7.13"
  }
 },
 "nbformat": 4,
 "nbformat_minor": 2
}
